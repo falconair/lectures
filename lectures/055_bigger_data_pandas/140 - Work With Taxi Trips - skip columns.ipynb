{
 "cells": [
  {
   "cell_type": "code",
   "execution_count": 39,
   "metadata": {},
   "outputs": [],
   "source": [
    "import pandas as pd\n",
    "import pyarrow as pa"
   ]
  },
  {
   "cell_type": "code",
   "execution_count": 2,
   "metadata": {},
   "outputs": [
    {
     "name": "stdout",
     "output_type": "stream",
     "text": [
      "CPU times: user 56.8 s, sys: 4.79 s, total: 1min 1s\n",
      "Wall time: 1min\n"
     ]
    }
   ],
   "source": [
    "%time data_df = pd.read_csv(\"../../datasets/taxi-trips/taxi_trips_small.csv\", low_memory=False)"
   ]
  },
  {
   "cell_type": "markdown",
   "metadata": {},
   "source": [
    "### Take a look at the data"
   ]
  },
  {
   "cell_type": "code",
   "execution_count": 3,
   "metadata": {},
   "outputs": [
    {
     "data": {
      "text/html": [
       "<div>\n",
       "<style scoped>\n",
       "    .dataframe tbody tr th:only-of-type {\n",
       "        vertical-align: middle;\n",
       "    }\n",
       "\n",
       "    .dataframe tbody tr th {\n",
       "        vertical-align: top;\n",
       "    }\n",
       "\n",
       "    .dataframe thead th {\n",
       "        text-align: right;\n",
       "    }\n",
       "</style>\n",
       "<table border=\"1\" class=\"dataframe\">\n",
       "  <thead>\n",
       "    <tr style=\"text-align: right;\">\n",
       "      <th></th>\n",
       "      <th>0</th>\n",
       "      <th>1</th>\n",
       "      <th>2</th>\n",
       "    </tr>\n",
       "  </thead>\n",
       "  <tbody>\n",
       "    <tr>\n",
       "      <th>Trip ID</th>\n",
       "      <td>2847377eac0bee949bfa1ca27913ed0d3a1f1b81</td>\n",
       "      <td>284c50ba7f586099fb533bf0d7f1536c6d7108ac</td>\n",
       "      <td>2847e0e16c5fdea8289eb406c12f697fbbde1ae3</td>\n",
       "    </tr>\n",
       "    <tr>\n",
       "      <th>Taxi ID</th>\n",
       "      <td>afe9520e229118e6dbb1fa164a31175e2b95a5f1e968d1...</td>\n",
       "      <td>145704ff91badf2808dafedfa719dddb09643f1563f8f6...</td>\n",
       "      <td>25026b4fed9610802a9737c038f487a76836346a67274e...</td>\n",
       "    </tr>\n",
       "    <tr>\n",
       "      <th>Trip Start Timestamp</th>\n",
       "      <td>05/18/2019 03:45:00 PM</td>\n",
       "      <td>05/02/2019 06:45:00 PM</td>\n",
       "      <td>05/15/2019 12:00:00 PM</td>\n",
       "    </tr>\n",
       "    <tr>\n",
       "      <th>Trip End Timestamp</th>\n",
       "      <td>05/18/2019 04:00:00 PM</td>\n",
       "      <td>05/02/2019 06:45:00 PM</td>\n",
       "      <td>05/15/2019 12:30:00 PM</td>\n",
       "    </tr>\n",
       "    <tr>\n",
       "      <th>Trip Seconds</th>\n",
       "      <td>540</td>\n",
       "      <td>480</td>\n",
       "      <td>1109</td>\n",
       "    </tr>\n",
       "    <tr>\n",
       "      <th>Trip Miles</th>\n",
       "      <td>0</td>\n",
       "      <td>1</td>\n",
       "      <td>4.92</td>\n",
       "    </tr>\n",
       "    <tr>\n",
       "      <th>Pickup Census Tract</th>\n",
       "      <td>1.70313e+10</td>\n",
       "      <td>1.70313e+10</td>\n",
       "      <td>1.7031e+10</td>\n",
       "    </tr>\n",
       "    <tr>\n",
       "      <th>Dropoff Census Tract</th>\n",
       "      <td>1.70311e+10</td>\n",
       "      <td>1.70313e+10</td>\n",
       "      <td>1.70311e+10</td>\n",
       "    </tr>\n",
       "    <tr>\n",
       "      <th>Pickup Community Area</th>\n",
       "      <td>32</td>\n",
       "      <td>28</td>\n",
       "      <td>3</td>\n",
       "    </tr>\n",
       "    <tr>\n",
       "      <th>Dropoff Community Area</th>\n",
       "      <td>8</td>\n",
       "      <td>32</td>\n",
       "      <td>7</td>\n",
       "    </tr>\n",
       "    <tr>\n",
       "      <th>Fare</th>\n",
       "      <td>8</td>\n",
       "      <td>6.75</td>\n",
       "      <td>16.25</td>\n",
       "    </tr>\n",
       "    <tr>\n",
       "      <th>Tips</th>\n",
       "      <td>0</td>\n",
       "      <td>0</td>\n",
       "      <td>0</td>\n",
       "    </tr>\n",
       "    <tr>\n",
       "      <th>Tolls</th>\n",
       "      <td>0</td>\n",
       "      <td>0</td>\n",
       "      <td>0</td>\n",
       "    </tr>\n",
       "    <tr>\n",
       "      <th>Extras</th>\n",
       "      <td>1</td>\n",
       "      <td>0</td>\n",
       "      <td>0</td>\n",
       "    </tr>\n",
       "    <tr>\n",
       "      <th>Trip Total</th>\n",
       "      <td>9</td>\n",
       "      <td>6.75</td>\n",
       "      <td>16.25</td>\n",
       "    </tr>\n",
       "    <tr>\n",
       "      <th>Payment Type</th>\n",
       "      <td>Cash</td>\n",
       "      <td>Cash</td>\n",
       "      <td>Cash</td>\n",
       "    </tr>\n",
       "    <tr>\n",
       "      <th>Company</th>\n",
       "      <td>Taxi Affiliation Services</td>\n",
       "      <td>Star North Management LLC</td>\n",
       "      <td>Flash Cab</td>\n",
       "    </tr>\n",
       "    <tr>\n",
       "      <th>Pickup Centroid Latitude</th>\n",
       "      <td>41.885</td>\n",
       "      <td>41.8793</td>\n",
       "      <td>41.9729</td>\n",
       "    </tr>\n",
       "    <tr>\n",
       "      <th>Pickup Centroid Longitude</th>\n",
       "      <td>-87.621</td>\n",
       "      <td>-87.6426</td>\n",
       "      <td>-87.6503</td>\n",
       "    </tr>\n",
       "    <tr>\n",
       "      <th>Pickup Centroid Location</th>\n",
       "      <td>POINT (-87.6209929134 41.8849871918)</td>\n",
       "      <td>POINT (-87.642648998 41.8792550844)</td>\n",
       "      <td>POINT (-87.6502900743 41.9729293173)</td>\n",
       "    </tr>\n",
       "    <tr>\n",
       "      <th>Dropoff Centroid Latitude</th>\n",
       "      <td>41.8909</td>\n",
       "      <td>41.8774</td>\n",
       "      <td>41.9219</td>\n",
       "    </tr>\n",
       "    <tr>\n",
       "      <th>Dropoff Centroid Longitude</th>\n",
       "      <td>-87.6189</td>\n",
       "      <td>-87.622</td>\n",
       "      <td>-87.6462</td>\n",
       "    </tr>\n",
       "    <tr>\n",
       "      <th>Dropoff Centroid  Location</th>\n",
       "      <td>POINT (-87.6188683546 41.8909220259)</td>\n",
       "      <td>POINT (-87.6219716519 41.8774061234)</td>\n",
       "      <td>POINT (-87.6462109769 41.9218549112)</td>\n",
       "    </tr>\n",
       "    <tr>\n",
       "      <th>Community Areas</th>\n",
       "      <td>38</td>\n",
       "      <td>29</td>\n",
       "      <td>31</td>\n",
       "    </tr>\n",
       "  </tbody>\n",
       "</table>\n",
       "</div>"
      ],
      "text/plain": [
       "                                                                            0  \\\n",
       "Trip ID                              2847377eac0bee949bfa1ca27913ed0d3a1f1b81   \n",
       "Taxi ID                     afe9520e229118e6dbb1fa164a31175e2b95a5f1e968d1...   \n",
       "Trip Start Timestamp                                   05/18/2019 03:45:00 PM   \n",
       "Trip End Timestamp                                     05/18/2019 04:00:00 PM   \n",
       "Trip Seconds                                                              540   \n",
       "Trip Miles                                                                  0   \n",
       "Pickup Census Tract                                               1.70313e+10   \n",
       "Dropoff Census Tract                                              1.70311e+10   \n",
       "Pickup Community Area                                                      32   \n",
       "Dropoff Community Area                                                      8   \n",
       "Fare                                                                        8   \n",
       "Tips                                                                        0   \n",
       "Tolls                                                                       0   \n",
       "Extras                                                                      1   \n",
       "Trip Total                                                                  9   \n",
       "Payment Type                                                             Cash   \n",
       "Company                                             Taxi Affiliation Services   \n",
       "Pickup Centroid Latitude                                               41.885   \n",
       "Pickup Centroid Longitude                                             -87.621   \n",
       "Pickup Centroid Location                 POINT (-87.6209929134 41.8849871918)   \n",
       "Dropoff Centroid Latitude                                             41.8909   \n",
       "Dropoff Centroid Longitude                                           -87.6189   \n",
       "Dropoff Centroid  Location               POINT (-87.6188683546 41.8909220259)   \n",
       "Community Areas                                                            38   \n",
       "\n",
       "                                                                            1  \\\n",
       "Trip ID                              284c50ba7f586099fb533bf0d7f1536c6d7108ac   \n",
       "Taxi ID                     145704ff91badf2808dafedfa719dddb09643f1563f8f6...   \n",
       "Trip Start Timestamp                                   05/02/2019 06:45:00 PM   \n",
       "Trip End Timestamp                                     05/02/2019 06:45:00 PM   \n",
       "Trip Seconds                                                              480   \n",
       "Trip Miles                                                                  1   \n",
       "Pickup Census Tract                                               1.70313e+10   \n",
       "Dropoff Census Tract                                              1.70313e+10   \n",
       "Pickup Community Area                                                      28   \n",
       "Dropoff Community Area                                                     32   \n",
       "Fare                                                                     6.75   \n",
       "Tips                                                                        0   \n",
       "Tolls                                                                       0   \n",
       "Extras                                                                      0   \n",
       "Trip Total                                                               6.75   \n",
       "Payment Type                                                             Cash   \n",
       "Company                                             Star North Management LLC   \n",
       "Pickup Centroid Latitude                                              41.8793   \n",
       "Pickup Centroid Longitude                                            -87.6426   \n",
       "Pickup Centroid Location                  POINT (-87.642648998 41.8792550844)   \n",
       "Dropoff Centroid Latitude                                             41.8774   \n",
       "Dropoff Centroid Longitude                                            -87.622   \n",
       "Dropoff Centroid  Location               POINT (-87.6219716519 41.8774061234)   \n",
       "Community Areas                                                            29   \n",
       "\n",
       "                                                                            2  \n",
       "Trip ID                              2847e0e16c5fdea8289eb406c12f697fbbde1ae3  \n",
       "Taxi ID                     25026b4fed9610802a9737c038f487a76836346a67274e...  \n",
       "Trip Start Timestamp                                   05/15/2019 12:00:00 PM  \n",
       "Trip End Timestamp                                     05/15/2019 12:30:00 PM  \n",
       "Trip Seconds                                                             1109  \n",
       "Trip Miles                                                               4.92  \n",
       "Pickup Census Tract                                                1.7031e+10  \n",
       "Dropoff Census Tract                                              1.70311e+10  \n",
       "Pickup Community Area                                                       3  \n",
       "Dropoff Community Area                                                      7  \n",
       "Fare                                                                    16.25  \n",
       "Tips                                                                        0  \n",
       "Tolls                                                                       0  \n",
       "Extras                                                                      0  \n",
       "Trip Total                                                              16.25  \n",
       "Payment Type                                                             Cash  \n",
       "Company                                                             Flash Cab  \n",
       "Pickup Centroid Latitude                                              41.9729  \n",
       "Pickup Centroid Longitude                                            -87.6503  \n",
       "Pickup Centroid Location                 POINT (-87.6502900743 41.9729293173)  \n",
       "Dropoff Centroid Latitude                                             41.9219  \n",
       "Dropoff Centroid Longitude                                           -87.6462  \n",
       "Dropoff Centroid  Location               POINT (-87.6462109769 41.9218549112)  \n",
       "Community Areas                                                            31  "
      ]
     },
     "execution_count": 3,
     "metadata": {},
     "output_type": "execute_result"
    }
   ],
   "source": [
    "data_df.head(3).T"
   ]
  },
  {
   "cell_type": "markdown",
   "metadata": {},
   "source": [
    "### See how much memory is being used (in total and per column)"
   ]
  },
  {
   "cell_type": "code",
   "execution_count": 4,
   "metadata": {},
   "outputs": [],
   "source": [
    "def bytes2mb(b): return (b / (1024 ** 2))"
   ]
  },
  {
   "cell_type": "code",
   "execution_count": 5,
   "metadata": {},
   "outputs": [],
   "source": [
    "mem_s = data_df.memory_usage(deep=True, index=False)"
   ]
  },
  {
   "cell_type": "code",
   "execution_count": 6,
   "metadata": {},
   "outputs": [],
   "source": [
    "mem_df = pd.DataFrame(round(mem_s / (1024 ** 2), 2), columns=['mem_in_megs'])"
   ]
  },
  {
   "cell_type": "code",
   "execution_count": 7,
   "metadata": {},
   "outputs": [
    {
     "name": "stdout",
     "output_type": "stream",
     "text": [
      "Total memory usage: 8.36 GB\n"
     ]
    }
   ],
   "source": [
    "print(\"Total memory usage:\", round(sum(mem_s) / (1024 ** 3), 2), \"GB\")"
   ]
  },
  {
   "cell_type": "markdown",
   "metadata": {},
   "source": [
    "#### Memory usage per column (in megabytes)"
   ]
  },
  {
   "cell_type": "code",
   "execution_count": 8,
   "metadata": {},
   "outputs": [
    {
     "data": {
      "text/html": [
       "<div>\n",
       "<style scoped>\n",
       "    .dataframe tbody tr th:only-of-type {\n",
       "        vertical-align: middle;\n",
       "    }\n",
       "\n",
       "    .dataframe tbody tr th {\n",
       "        vertical-align: top;\n",
       "    }\n",
       "\n",
       "    .dataframe thead th {\n",
       "        text-align: right;\n",
       "    }\n",
       "</style>\n",
       "<table border=\"1\" class=\"dataframe\">\n",
       "  <thead>\n",
       "    <tr style=\"text-align: right;\">\n",
       "      <th></th>\n",
       "      <th>mem_in_megs</th>\n",
       "    </tr>\n",
       "  </thead>\n",
       "  <tbody>\n",
       "    <tr>\n",
       "      <th>Tips</th>\n",
       "      <td>86.30</td>\n",
       "    </tr>\n",
       "    <tr>\n",
       "      <th>Dropoff Centroid Longitude</th>\n",
       "      <td>86.30</td>\n",
       "    </tr>\n",
       "    <tr>\n",
       "      <th>Dropoff Centroid Latitude</th>\n",
       "      <td>86.30</td>\n",
       "    </tr>\n",
       "    <tr>\n",
       "      <th>Pickup Centroid Longitude</th>\n",
       "      <td>86.30</td>\n",
       "    </tr>\n",
       "    <tr>\n",
       "      <th>Pickup Centroid Latitude</th>\n",
       "      <td>86.30</td>\n",
       "    </tr>\n",
       "    <tr>\n",
       "      <th>Trip Total</th>\n",
       "      <td>86.30</td>\n",
       "    </tr>\n",
       "    <tr>\n",
       "      <th>Extras</th>\n",
       "      <td>86.30</td>\n",
       "    </tr>\n",
       "    <tr>\n",
       "      <th>Tolls</th>\n",
       "      <td>86.30</td>\n",
       "    </tr>\n",
       "    <tr>\n",
       "      <th>Fare</th>\n",
       "      <td>86.30</td>\n",
       "    </tr>\n",
       "    <tr>\n",
       "      <th>Community Areas</th>\n",
       "      <td>86.30</td>\n",
       "    </tr>\n",
       "    <tr>\n",
       "      <th>Pickup Community Area</th>\n",
       "      <td>86.30</td>\n",
       "    </tr>\n",
       "    <tr>\n",
       "      <th>Dropoff Census Tract</th>\n",
       "      <td>86.30</td>\n",
       "    </tr>\n",
       "    <tr>\n",
       "      <th>Pickup Census Tract</th>\n",
       "      <td>86.30</td>\n",
       "    </tr>\n",
       "    <tr>\n",
       "      <th>Trip Miles</th>\n",
       "      <td>86.30</td>\n",
       "    </tr>\n",
       "    <tr>\n",
       "      <th>Trip Seconds</th>\n",
       "      <td>86.30</td>\n",
       "    </tr>\n",
       "    <tr>\n",
       "      <th>Dropoff Community Area</th>\n",
       "      <td>86.30</td>\n",
       "    </tr>\n",
       "    <tr>\n",
       "      <th>Pickup Centroid Location</th>\n",
       "      <td>510.35</td>\n",
       "    </tr>\n",
       "    <tr>\n",
       "      <th>Dropoff Centroid  Location</th>\n",
       "      <td>523.05</td>\n",
       "    </tr>\n",
       "    <tr>\n",
       "      <th>Payment Type</th>\n",
       "      <td>694.09</td>\n",
       "    </tr>\n",
       "    <tr>\n",
       "      <th>Company</th>\n",
       "      <td>701.70</td>\n",
       "    </tr>\n",
       "    <tr>\n",
       "      <th>Trip End Timestamp</th>\n",
       "      <td>852.15</td>\n",
       "    </tr>\n",
       "    <tr>\n",
       "      <th>Trip Start Timestamp</th>\n",
       "      <td>852.21</td>\n",
       "    </tr>\n",
       "    <tr>\n",
       "      <th>Trip ID</th>\n",
       "      <td>1046.39</td>\n",
       "    </tr>\n",
       "    <tr>\n",
       "      <th>Taxi ID</th>\n",
       "      <td>1995.13</td>\n",
       "    </tr>\n",
       "  </tbody>\n",
       "</table>\n",
       "</div>"
      ],
      "text/plain": [
       "                            mem_in_megs\n",
       "Tips                              86.30\n",
       "Dropoff Centroid Longitude        86.30\n",
       "Dropoff Centroid Latitude         86.30\n",
       "Pickup Centroid Longitude         86.30\n",
       "Pickup Centroid Latitude          86.30\n",
       "Trip Total                        86.30\n",
       "Extras                            86.30\n",
       "Tolls                             86.30\n",
       "Fare                              86.30\n",
       "Community Areas                   86.30\n",
       "Pickup Community Area             86.30\n",
       "Dropoff Census Tract              86.30\n",
       "Pickup Census Tract               86.30\n",
       "Trip Miles                        86.30\n",
       "Trip Seconds                      86.30\n",
       "Dropoff Community Area            86.30\n",
       "Pickup Centroid Location         510.35\n",
       "Dropoff Centroid  Location       523.05\n",
       "Payment Type                     694.09\n",
       "Company                          701.70\n",
       "Trip End Timestamp               852.15\n",
       "Trip Start Timestamp             852.21\n",
       "Trip ID                         1046.39\n",
       "Taxi ID                         1995.13"
      ]
     },
     "execution_count": 8,
     "metadata": {},
     "output_type": "execute_result"
    }
   ],
   "source": [
    "mem_df.sort_values(\"mem_in_megs\")"
   ]
  },
  {
   "cell_type": "markdown",
   "metadata": {},
   "source": [
    "### Combine mem usage, data types, unique values and sample values"
   ]
  },
  {
   "cell_type": "code",
   "execution_count": 9,
   "metadata": {},
   "outputs": [
    {
     "data": {
      "text/html": [
       "<div>\n",
       "<style scoped>\n",
       "    .dataframe tbody tr th:only-of-type {\n",
       "        vertical-align: middle;\n",
       "    }\n",
       "\n",
       "    .dataframe tbody tr th {\n",
       "        vertical-align: top;\n",
       "    }\n",
       "\n",
       "    .dataframe thead th {\n",
       "        text-align: right;\n",
       "    }\n",
       "</style>\n",
       "<table border=\"1\" class=\"dataframe\">\n",
       "  <thead>\n",
       "    <tr style=\"text-align: right;\">\n",
       "      <th></th>\n",
       "      <th>mem_in_megs</th>\n",
       "      <th>dtypes</th>\n",
       "      <th>nuniques</th>\n",
       "      <th>0</th>\n",
       "    </tr>\n",
       "  </thead>\n",
       "  <tbody>\n",
       "    <tr>\n",
       "      <th>Tips</th>\n",
       "      <td>86.30</td>\n",
       "      <td>float64</td>\n",
       "      <td>3622</td>\n",
       "      <td>0</td>\n",
       "    </tr>\n",
       "    <tr>\n",
       "      <th>Dropoff Centroid Longitude</th>\n",
       "      <td>86.30</td>\n",
       "      <td>float64</td>\n",
       "      <td>590</td>\n",
       "      <td>-87.6189</td>\n",
       "    </tr>\n",
       "    <tr>\n",
       "      <th>Dropoff Centroid Latitude</th>\n",
       "      <td>86.30</td>\n",
       "      <td>float64</td>\n",
       "      <td>590</td>\n",
       "      <td>41.8909</td>\n",
       "    </tr>\n",
       "    <tr>\n",
       "      <th>Pickup Centroid Longitude</th>\n",
       "      <td>86.30</td>\n",
       "      <td>float64</td>\n",
       "      <td>490</td>\n",
       "      <td>-87.621</td>\n",
       "    </tr>\n",
       "    <tr>\n",
       "      <th>Pickup Centroid Latitude</th>\n",
       "      <td>86.30</td>\n",
       "      <td>float64</td>\n",
       "      <td>490</td>\n",
       "      <td>41.885</td>\n",
       "    </tr>\n",
       "    <tr>\n",
       "      <th>Trip Total</th>\n",
       "      <td>86.30</td>\n",
       "      <td>float64</td>\n",
       "      <td>15186</td>\n",
       "      <td>9</td>\n",
       "    </tr>\n",
       "    <tr>\n",
       "      <th>Extras</th>\n",
       "      <td>86.30</td>\n",
       "      <td>float64</td>\n",
       "      <td>2452</td>\n",
       "      <td>1</td>\n",
       "    </tr>\n",
       "    <tr>\n",
       "      <th>Tolls</th>\n",
       "      <td>86.30</td>\n",
       "      <td>float64</td>\n",
       "      <td>441</td>\n",
       "      <td>0</td>\n",
       "    </tr>\n",
       "    <tr>\n",
       "      <th>Fare</th>\n",
       "      <td>86.30</td>\n",
       "      <td>float64</td>\n",
       "      <td>8920</td>\n",
       "      <td>8</td>\n",
       "    </tr>\n",
       "    <tr>\n",
       "      <th>Community Areas</th>\n",
       "      <td>86.30</td>\n",
       "      <td>float64</td>\n",
       "      <td>77</td>\n",
       "      <td>38</td>\n",
       "    </tr>\n",
       "    <tr>\n",
       "      <th>Pickup Community Area</th>\n",
       "      <td>86.30</td>\n",
       "      <td>float64</td>\n",
       "      <td>77</td>\n",
       "      <td>32</td>\n",
       "    </tr>\n",
       "    <tr>\n",
       "      <th>Dropoff Census Tract</th>\n",
       "      <td>86.30</td>\n",
       "      <td>float64</td>\n",
       "      <td>967</td>\n",
       "      <td>1.70311e+10</td>\n",
       "    </tr>\n",
       "    <tr>\n",
       "      <th>Pickup Census Tract</th>\n",
       "      <td>86.30</td>\n",
       "      <td>float64</td>\n",
       "      <td>861</td>\n",
       "      <td>1.70313e+10</td>\n",
       "    </tr>\n",
       "    <tr>\n",
       "      <th>Trip Miles</th>\n",
       "      <td>86.30</td>\n",
       "      <td>float64</td>\n",
       "      <td>6631</td>\n",
       "      <td>0</td>\n",
       "    </tr>\n",
       "    <tr>\n",
       "      <th>Trip Seconds</th>\n",
       "      <td>86.30</td>\n",
       "      <td>float64</td>\n",
       "      <td>11209</td>\n",
       "      <td>540</td>\n",
       "    </tr>\n",
       "    <tr>\n",
       "      <th>Dropoff Community Area</th>\n",
       "      <td>86.30</td>\n",
       "      <td>float64</td>\n",
       "      <td>77</td>\n",
       "      <td>8</td>\n",
       "    </tr>\n",
       "    <tr>\n",
       "      <th>Pickup Centroid Location</th>\n",
       "      <td>510.35</td>\n",
       "      <td>object</td>\n",
       "      <td>527</td>\n",
       "      <td>POINT (-87.6209929134 41.8849871918)</td>\n",
       "    </tr>\n",
       "    <tr>\n",
       "      <th>Dropoff Centroid  Location</th>\n",
       "      <td>523.05</td>\n",
       "      <td>object</td>\n",
       "      <td>644</td>\n",
       "      <td>POINT (-87.6188683546 41.8909220259)</td>\n",
       "    </tr>\n",
       "    <tr>\n",
       "      <th>Payment Type</th>\n",
       "      <td>694.09</td>\n",
       "      <td>object</td>\n",
       "      <td>10</td>\n",
       "      <td>Cash</td>\n",
       "    </tr>\n",
       "    <tr>\n",
       "      <th>Company</th>\n",
       "      <td>701.70</td>\n",
       "      <td>object</td>\n",
       "      <td>155</td>\n",
       "      <td>Taxi Affiliation Services</td>\n",
       "    </tr>\n",
       "    <tr>\n",
       "      <th>Trip End Timestamp</th>\n",
       "      <td>852.15</td>\n",
       "      <td>object</td>\n",
       "      <td>226258</td>\n",
       "      <td>05/18/2019 04:00:00 PM</td>\n",
       "    </tr>\n",
       "    <tr>\n",
       "      <th>Trip Start Timestamp</th>\n",
       "      <td>852.21</td>\n",
       "      <td>object</td>\n",
       "      <td>226196</td>\n",
       "      <td>05/18/2019 03:45:00 PM</td>\n",
       "    </tr>\n",
       "    <tr>\n",
       "      <th>Trip ID</th>\n",
       "      <td>1046.39</td>\n",
       "      <td>object</td>\n",
       "      <td>11311524</td>\n",
       "      <td>2847377eac0bee949bfa1ca27913ed0d3a1f1b81</td>\n",
       "    </tr>\n",
       "    <tr>\n",
       "      <th>Taxi ID</th>\n",
       "      <td>1995.13</td>\n",
       "      <td>object</td>\n",
       "      <td>8398</td>\n",
       "      <td>afe9520e229118e6dbb1fa164a31175e2b95a5f1e968d1...</td>\n",
       "    </tr>\n",
       "  </tbody>\n",
       "</table>\n",
       "</div>"
      ],
      "text/plain": [
       "                            mem_in_megs   dtypes  nuniques  \\\n",
       "Tips                              86.30  float64      3622   \n",
       "Dropoff Centroid Longitude        86.30  float64       590   \n",
       "Dropoff Centroid Latitude         86.30  float64       590   \n",
       "Pickup Centroid Longitude         86.30  float64       490   \n",
       "Pickup Centroid Latitude          86.30  float64       490   \n",
       "Trip Total                        86.30  float64     15186   \n",
       "Extras                            86.30  float64      2452   \n",
       "Tolls                             86.30  float64       441   \n",
       "Fare                              86.30  float64      8920   \n",
       "Community Areas                   86.30  float64        77   \n",
       "Pickup Community Area             86.30  float64        77   \n",
       "Dropoff Census Tract              86.30  float64       967   \n",
       "Pickup Census Tract               86.30  float64       861   \n",
       "Trip Miles                        86.30  float64      6631   \n",
       "Trip Seconds                      86.30  float64     11209   \n",
       "Dropoff Community Area            86.30  float64        77   \n",
       "Pickup Centroid Location         510.35   object       527   \n",
       "Dropoff Centroid  Location       523.05   object       644   \n",
       "Payment Type                     694.09   object        10   \n",
       "Company                          701.70   object       155   \n",
       "Trip End Timestamp               852.15   object    226258   \n",
       "Trip Start Timestamp             852.21   object    226196   \n",
       "Trip ID                         1046.39   object  11311524   \n",
       "Taxi ID                         1995.13   object      8398   \n",
       "\n",
       "                                                                            0  \n",
       "Tips                                                                        0  \n",
       "Dropoff Centroid Longitude                                           -87.6189  \n",
       "Dropoff Centroid Latitude                                             41.8909  \n",
       "Pickup Centroid Longitude                                             -87.621  \n",
       "Pickup Centroid Latitude                                               41.885  \n",
       "Trip Total                                                                  9  \n",
       "Extras                                                                      1  \n",
       "Tolls                                                                       0  \n",
       "Fare                                                                        8  \n",
       "Community Areas                                                            38  \n",
       "Pickup Community Area                                                      32  \n",
       "Dropoff Census Tract                                              1.70311e+10  \n",
       "Pickup Census Tract                                               1.70313e+10  \n",
       "Trip Miles                                                                  0  \n",
       "Trip Seconds                                                              540  \n",
       "Dropoff Community Area                                                      8  \n",
       "Pickup Centroid Location                 POINT (-87.6209929134 41.8849871918)  \n",
       "Dropoff Centroid  Location               POINT (-87.6188683546 41.8909220259)  \n",
       "Payment Type                                                             Cash  \n",
       "Company                                             Taxi Affiliation Services  \n",
       "Trip End Timestamp                                     05/18/2019 04:00:00 PM  \n",
       "Trip Start Timestamp                                   05/18/2019 03:45:00 PM  \n",
       "Trip ID                              2847377eac0bee949bfa1ca27913ed0d3a1f1b81  \n",
       "Taxi ID                     afe9520e229118e6dbb1fa164a31175e2b95a5f1e968d1...  "
      ]
     },
     "execution_count": 9,
     "metadata": {},
     "output_type": "execute_result"
    }
   ],
   "source": [
    "mem_df\\\n",
    "    .join(pd.DataFrame(data_df.dtypes, columns=[\"dtypes\"]))\\\n",
    "    .join(pd.DataFrame(data_df.nunique(), columns=[\"nuniques\"]))\\\n",
    "    .join(data_df[:1].T).sort_values(\"mem_in_megs\")"
   ]
  },
  {
   "cell_type": "markdown",
   "metadata": {},
   "source": [
    "#### Notice that \"Payment Type\" is a string, perhaps it is just category (with very few unique strings?)"
   ]
  },
  {
   "cell_type": "code",
   "execution_count": 10,
   "metadata": {},
   "outputs": [
    {
     "data": {
      "text/plain": [
       "694.0905427932739"
      ]
     },
     "execution_count": 10,
     "metadata": {},
     "output_type": "execute_result"
    }
   ],
   "source": [
    "bytes2mb(data_df['Payment Type'].memory_usage(deep=True))"
   ]
  },
  {
   "cell_type": "code",
   "execution_count": 11,
   "metadata": {},
   "outputs": [
    {
     "data": {
      "text/plain": [
       "Cash           5840043\n",
       "Credit Card    5331367\n",
       "No Charge        60445\n",
       "Mobile           29568\n",
       "Unknown          23192\n",
       "Prcard           19556\n",
       "Pcard             4020\n",
       "Dispute           3211\n",
       "Prepaid            118\n",
       "Way2ride             4\n",
       "Name: Payment Type, dtype: int64"
      ]
     },
     "execution_count": 11,
     "metadata": {},
     "output_type": "execute_result"
    }
   ],
   "source": [
    "data_df['Payment Type'].value_counts()"
   ]
  },
  {
   "cell_type": "code",
   "execution_count": 12,
   "metadata": {},
   "outputs": [],
   "source": [
    "data_df['Payment Type'] = data_df['Payment Type'].astype('category')"
   ]
  },
  {
   "cell_type": "code",
   "execution_count": 13,
   "metadata": {},
   "outputs": [
    {
     "data": {
      "text/plain": [
       "Cash           5840043\n",
       "Credit Card    5331367\n",
       "No Charge        60445\n",
       "Mobile           29568\n",
       "Unknown          23192\n",
       "Prcard           19556\n",
       "Pcard             4020\n",
       "Dispute           3211\n",
       "Prepaid            118\n",
       "Way2ride             4\n",
       "Name: Payment Type, dtype: int64"
      ]
     },
     "execution_count": 13,
     "metadata": {},
     "output_type": "execute_result"
    }
   ],
   "source": [
    "data_df['Payment Type'].value_counts()"
   ]
  },
  {
   "cell_type": "code",
   "execution_count": 14,
   "metadata": {},
   "outputs": [
    {
     "data": {
      "text/plain": [
       "10.788501739501953"
      ]
     },
     "execution_count": 14,
     "metadata": {},
     "output_type": "execute_result"
    }
   ],
   "source": [
    "bytes2mb(data_df['Payment Type'].memory_usage(deep=True))"
   ]
  },
  {
   "cell_type": "code",
   "execution_count": 15,
   "metadata": {},
   "outputs": [
    {
     "name": "stdout",
     "output_type": "stream",
     "text": [
      "Total memory usage: 7.69 GB\n"
     ]
    }
   ],
   "source": [
    "print(\"Total memory usage:\", round(sum(data_df.memory_usage(deep=True, index=False)) / (1024 ** 3), 2), \"GB\")"
   ]
  },
  {
   "cell_type": "markdown",
   "metadata": {},
   "source": [
    "We went from almost 700 megs to only 10 megs!!!"
   ]
  },
  {
   "cell_type": "markdown",
   "metadata": {},
   "source": [
    "#### Check out Trip Start/End Timestamp, looks like they are supposed to be timestamps, but pandas thinks they are strings"
   ]
  },
  {
   "cell_type": "code",
   "execution_count": 16,
   "metadata": {},
   "outputs": [
    {
     "data": {
      "text/plain": [
       "1704.365312576294"
      ]
     },
     "execution_count": 16,
     "metadata": {},
     "output_type": "execute_result"
    }
   ],
   "source": [
    "bytes2mb(data_df['Trip Start Timestamp'].memory_usage(deep=True)) \\\n",
    "    + bytes2mb(data_df['Trip End Timestamp'].memory_usage(deep=True))"
   ]
  },
  {
   "cell_type": "code",
   "execution_count": 17,
   "metadata": {},
   "outputs": [],
   "source": [
    "data_df['Trip Start Timestamp'] = pd.to_datetime(data_df['Trip Start Timestamp'][:10], format=\"%m/%d/%Y %H:%M:%S %p\")\n",
    "data_df['Trip End Timestamp'] = pd.to_datetime(data_df['Trip End Timestamp'][:10], format=\"%m/%d/%Y %H:%M:%S %p\")"
   ]
  },
  {
   "cell_type": "code",
   "execution_count": 18,
   "metadata": {},
   "outputs": [
    {
     "data": {
      "text/plain": [
       "172.60031127929688"
      ]
     },
     "execution_count": 18,
     "metadata": {},
     "output_type": "execute_result"
    }
   ],
   "source": [
    "bytes2mb(data_df['Trip Start Timestamp'].memory_usage(deep=True)) \\\n",
    "    + bytes2mb(data_df['Trip End Timestamp'].memory_usage(deep=True))"
   ]
  },
  {
   "cell_type": "code",
   "execution_count": 19,
   "metadata": {},
   "outputs": [
    {
     "name": "stdout",
     "output_type": "stream",
     "text": [
      "Total memory usage: 6.19 GB\n"
     ]
    }
   ],
   "source": [
    "print(\"Total memory usage:\", round(sum(data_df.memory_usage(deep=True, index=False)) / (1024 ** 3), 2), \"GB\")"
   ]
  },
  {
   "cell_type": "markdown",
   "metadata": {},
   "source": [
    "#### Notice that Pickup/Dropoff Centroid Locations are strings made up of values already in lat/long, elsewhere in table...drop them!"
   ]
  },
  {
   "cell_type": "code",
   "execution_count": 20,
   "metadata": {},
   "outputs": [
    {
     "data": {
      "text/plain": [
       "1033.4056596755981"
      ]
     },
     "execution_count": 20,
     "metadata": {},
     "output_type": "execute_result"
    }
   ],
   "source": [
    "bytes2mb(data_df['Pickup Centroid Location'].memory_usage(deep=True)) \\\n",
    "    + bytes2mb(data_df['Dropoff Centroid  Location'].memory_usage(deep=True))"
   ]
  },
  {
   "cell_type": "code",
   "execution_count": 21,
   "metadata": {},
   "outputs": [],
   "source": [
    "data_df.drop(['Pickup Centroid Location', 'Dropoff Centroid  Location'], axis=1, inplace=True)"
   ]
  },
  {
   "cell_type": "code",
   "execution_count": 22,
   "metadata": {},
   "outputs": [
    {
     "name": "stdout",
     "output_type": "stream",
     "text": [
      "Total memory usage: 5.18 GB\n"
     ]
    }
   ],
   "source": [
    "print(\"Total memory usage:\", round(sum(data_df.memory_usage(deep=True, index=False)) / (1024 ** 3), 2), \"GB\")"
   ]
  },
  {
   "cell_type": "markdown",
   "metadata": {},
   "source": [
    "#### Can we convert other columns to categories and save lots of memory?"
   ]
  },
  {
   "cell_type": "code",
   "execution_count": 23,
   "metadata": {},
   "outputs": [
    {
     "data": {
      "text/plain": [
       "(701.70250415802, 21.59163761138916)"
      ]
     },
     "execution_count": 23,
     "metadata": {},
     "output_type": "execute_result"
    }
   ],
   "source": [
    "bytes2mb(data_df['Company'].memory_usage(deep=True)) , \\\n",
    "bytes2mb(data_df['Company'].astype('category').memory_usage(deep=True))"
   ]
  },
  {
   "cell_type": "code",
   "execution_count": 24,
   "metadata": {},
   "outputs": [
    {
     "data": {
      "text/plain": [
       "(1995.1275033950806, 23.369253158569336)"
      ]
     },
     "execution_count": 24,
     "metadata": {},
     "output_type": "execute_result"
    }
   ],
   "source": [
    "bytes2mb(data_df['Taxi ID'].memory_usage(deep=True)) , \\\n",
    "bytes2mb(data_df['Taxi ID'].astype('category').memory_usage(deep=True))"
   ]
  },
  {
   "cell_type": "code",
   "execution_count": 25,
   "metadata": {},
   "outputs": [
    {
     "data": {
      "text/plain": [
       "(1046.3885383605957, 1409.5385780334473)"
      ]
     },
     "execution_count": 25,
     "metadata": {},
     "output_type": "execute_result"
    }
   ],
   "source": [
    "bytes2mb(data_df['Trip ID'].memory_usage(deep=True)) , \\\n",
    "bytes2mb(data_df['Trip ID'].astype('category').memory_usage(deep=True))"
   ]
  },
  {
   "cell_type": "code",
   "execution_count": 26,
   "metadata": {},
   "outputs": [],
   "source": [
    "data_df['Company'] = data_df['Company'].astype('category')"
   ]
  },
  {
   "cell_type": "code",
   "execution_count": 27,
   "metadata": {},
   "outputs": [],
   "source": [
    "data_df['Taxi ID'] = data_df['Taxi ID'].astype('category')"
   ]
  },
  {
   "cell_type": "markdown",
   "metadata": {},
   "source": [
    "#### Where do we stand?"
   ]
  },
  {
   "cell_type": "code",
   "execution_count": 38,
   "metadata": {},
   "outputs": [
    {
     "data": {
      "text/html": [
       "<div>\n",
       "<style scoped>\n",
       "    .dataframe tbody tr th:only-of-type {\n",
       "        vertical-align: middle;\n",
       "    }\n",
       "\n",
       "    .dataframe tbody tr th {\n",
       "        vertical-align: top;\n",
       "    }\n",
       "\n",
       "    .dataframe thead th {\n",
       "        text-align: right;\n",
       "    }\n",
       "</style>\n",
       "<table border=\"1\" class=\"dataframe\">\n",
       "  <thead>\n",
       "    <tr style=\"text-align: right;\">\n",
       "      <th></th>\n",
       "      <th>mem_in_megs</th>\n",
       "      <th>dtypes</th>\n",
       "      <th>nuniques</th>\n",
       "      <th>0</th>\n",
       "    </tr>\n",
       "  </thead>\n",
       "  <tbody>\n",
       "    <tr>\n",
       "      <th>Index</th>\n",
       "      <td>0.000076</td>\n",
       "      <td>NaN</td>\n",
       "      <td>NaN</td>\n",
       "      <td>NaN</td>\n",
       "    </tr>\n",
       "    <tr>\n",
       "      <th>Payment Type</th>\n",
       "      <td>10.788425</td>\n",
       "      <td>category</td>\n",
       "      <td>10.0</td>\n",
       "      <td>Cash</td>\n",
       "    </tr>\n",
       "    <tr>\n",
       "      <th>Company</th>\n",
       "      <td>21.591561</td>\n",
       "      <td>category</td>\n",
       "      <td>155.0</td>\n",
       "      <td>Taxi Affiliation Services</td>\n",
       "    </tr>\n",
       "    <tr>\n",
       "      <th>Taxi ID</th>\n",
       "      <td>23.369177</td>\n",
       "      <td>category</td>\n",
       "      <td>8398.0</td>\n",
       "      <td>afe9520e229118e6dbb1fa164a31175e2b95a5f1e968d1...</td>\n",
       "    </tr>\n",
       "    <tr>\n",
       "      <th>Dropoff Centroid Latitude</th>\n",
       "      <td>86.300079</td>\n",
       "      <td>float64</td>\n",
       "      <td>590.0</td>\n",
       "      <td>41.8909</td>\n",
       "    </tr>\n",
       "    <tr>\n",
       "      <th>Pickup Centroid Longitude</th>\n",
       "      <td>86.300079</td>\n",
       "      <td>float64</td>\n",
       "      <td>490.0</td>\n",
       "      <td>-87.621</td>\n",
       "    </tr>\n",
       "    <tr>\n",
       "      <th>Pickup Centroid Latitude</th>\n",
       "      <td>86.300079</td>\n",
       "      <td>float64</td>\n",
       "      <td>490.0</td>\n",
       "      <td>41.885</td>\n",
       "    </tr>\n",
       "    <tr>\n",
       "      <th>Trip Total</th>\n",
       "      <td>86.300079</td>\n",
       "      <td>float64</td>\n",
       "      <td>15186.0</td>\n",
       "      <td>9</td>\n",
       "    </tr>\n",
       "    <tr>\n",
       "      <th>Extras</th>\n",
       "      <td>86.300079</td>\n",
       "      <td>float64</td>\n",
       "      <td>2452.0</td>\n",
       "      <td>1</td>\n",
       "    </tr>\n",
       "    <tr>\n",
       "      <th>Tolls</th>\n",
       "      <td>86.300079</td>\n",
       "      <td>float64</td>\n",
       "      <td>441.0</td>\n",
       "      <td>0</td>\n",
       "    </tr>\n",
       "    <tr>\n",
       "      <th>Tips</th>\n",
       "      <td>86.300079</td>\n",
       "      <td>float64</td>\n",
       "      <td>3622.0</td>\n",
       "      <td>0</td>\n",
       "    </tr>\n",
       "    <tr>\n",
       "      <th>Fare</th>\n",
       "      <td>86.300079</td>\n",
       "      <td>float64</td>\n",
       "      <td>8920.0</td>\n",
       "      <td>8</td>\n",
       "    </tr>\n",
       "    <tr>\n",
       "      <th>Dropoff Community Area</th>\n",
       "      <td>86.300079</td>\n",
       "      <td>float64</td>\n",
       "      <td>77.0</td>\n",
       "      <td>8</td>\n",
       "    </tr>\n",
       "    <tr>\n",
       "      <th>Pickup Community Area</th>\n",
       "      <td>86.300079</td>\n",
       "      <td>float64</td>\n",
       "      <td>77.0</td>\n",
       "      <td>32</td>\n",
       "    </tr>\n",
       "    <tr>\n",
       "      <th>Dropoff Census Tract</th>\n",
       "      <td>86.300079</td>\n",
       "      <td>float64</td>\n",
       "      <td>967.0</td>\n",
       "      <td>1.70311e+10</td>\n",
       "    </tr>\n",
       "    <tr>\n",
       "      <th>Pickup Census Tract</th>\n",
       "      <td>86.300079</td>\n",
       "      <td>float64</td>\n",
       "      <td>861.0</td>\n",
       "      <td>1.70313e+10</td>\n",
       "    </tr>\n",
       "    <tr>\n",
       "      <th>Trip Miles</th>\n",
       "      <td>86.300079</td>\n",
       "      <td>float64</td>\n",
       "      <td>6631.0</td>\n",
       "      <td>0</td>\n",
       "    </tr>\n",
       "    <tr>\n",
       "      <th>Trip Seconds</th>\n",
       "      <td>86.300079</td>\n",
       "      <td>float64</td>\n",
       "      <td>11209.0</td>\n",
       "      <td>540</td>\n",
       "    </tr>\n",
       "    <tr>\n",
       "      <th>Trip End Timestamp</th>\n",
       "      <td>86.300079</td>\n",
       "      <td>datetime64[ns]</td>\n",
       "      <td>10.0</td>\n",
       "      <td>2019-05-18 04:00:00</td>\n",
       "    </tr>\n",
       "    <tr>\n",
       "      <th>Trip Start Timestamp</th>\n",
       "      <td>86.300079</td>\n",
       "      <td>datetime64[ns]</td>\n",
       "      <td>10.0</td>\n",
       "      <td>2019-05-18 03:45:00</td>\n",
       "    </tr>\n",
       "    <tr>\n",
       "      <th>Dropoff Centroid Longitude</th>\n",
       "      <td>86.300079</td>\n",
       "      <td>float64</td>\n",
       "      <td>590.0</td>\n",
       "      <td>-87.6189</td>\n",
       "    </tr>\n",
       "    <tr>\n",
       "      <th>Community Areas</th>\n",
       "      <td>86.300079</td>\n",
       "      <td>float64</td>\n",
       "      <td>77.0</td>\n",
       "      <td>38</td>\n",
       "    </tr>\n",
       "    <tr>\n",
       "      <th>Trip ID</th>\n",
       "      <td>1046.388462</td>\n",
       "      <td>object</td>\n",
       "      <td>11311524.0</td>\n",
       "      <td>2847377eac0bee949bfa1ca27913ed0d3a1f1b81</td>\n",
       "    </tr>\n",
       "  </tbody>\n",
       "</table>\n",
       "</div>"
      ],
      "text/plain": [
       "                            mem_in_megs          dtypes    nuniques  \\\n",
       "Index                          0.000076             NaN         NaN   \n",
       "Payment Type                  10.788425        category        10.0   \n",
       "Company                       21.591561        category       155.0   \n",
       "Taxi ID                       23.369177        category      8398.0   \n",
       "Dropoff Centroid Latitude     86.300079         float64       590.0   \n",
       "Pickup Centroid Longitude     86.300079         float64       490.0   \n",
       "Pickup Centroid Latitude      86.300079         float64       490.0   \n",
       "Trip Total                    86.300079         float64     15186.0   \n",
       "Extras                        86.300079         float64      2452.0   \n",
       "Tolls                         86.300079         float64       441.0   \n",
       "Tips                          86.300079         float64      3622.0   \n",
       "Fare                          86.300079         float64      8920.0   \n",
       "Dropoff Community Area        86.300079         float64        77.0   \n",
       "Pickup Community Area         86.300079         float64        77.0   \n",
       "Dropoff Census Tract          86.300079         float64       967.0   \n",
       "Pickup Census Tract           86.300079         float64       861.0   \n",
       "Trip Miles                    86.300079         float64      6631.0   \n",
       "Trip Seconds                  86.300079         float64     11209.0   \n",
       "Trip End Timestamp            86.300079  datetime64[ns]        10.0   \n",
       "Trip Start Timestamp          86.300079  datetime64[ns]        10.0   \n",
       "Dropoff Centroid Longitude    86.300079         float64       590.0   \n",
       "Community Areas               86.300079         float64        77.0   \n",
       "Trip ID                     1046.388462          object  11311524.0   \n",
       "\n",
       "                                                                            0  \n",
       "Index                                                                     NaN  \n",
       "Payment Type                                                             Cash  \n",
       "Company                                             Taxi Affiliation Services  \n",
       "Taxi ID                     afe9520e229118e6dbb1fa164a31175e2b95a5f1e968d1...  \n",
       "Dropoff Centroid Latitude                                             41.8909  \n",
       "Pickup Centroid Longitude                                             -87.621  \n",
       "Pickup Centroid Latitude                                               41.885  \n",
       "Trip Total                                                                  9  \n",
       "Extras                                                                      1  \n",
       "Tolls                                                                       0  \n",
       "Tips                                                                        0  \n",
       "Fare                                                                        8  \n",
       "Dropoff Community Area                                                      8  \n",
       "Pickup Community Area                                                      32  \n",
       "Dropoff Census Tract                                              1.70311e+10  \n",
       "Pickup Census Tract                                               1.70313e+10  \n",
       "Trip Miles                                                                  0  \n",
       "Trip Seconds                                                              540  \n",
       "Trip End Timestamp                                        2019-05-18 04:00:00  \n",
       "Trip Start Timestamp                                      2019-05-18 03:45:00  \n",
       "Dropoff Centroid Longitude                                           -87.6189  \n",
       "Community Areas                                                            38  \n",
       "Trip ID                              2847377eac0bee949bfa1ca27913ed0d3a1f1b81  "
      ]
     },
     "execution_count": 38,
     "metadata": {},
     "output_type": "execute_result"
    }
   ],
   "source": [
    "pd.DataFrame(bytes2mb(data_df.memory_usage(deep=True)), columns=[\"mem_in_megs\"])\\\n",
    "    .join(pd.DataFrame(data_df.dtypes, columns=[\"dtypes\"]))\\\n",
    "    .join(pd.DataFrame(data_df.nunique(), columns=[\"nuniques\"]))\\\n",
    "    .join(data_df[:1].T).sort_values(\"mem_in_megs\")"
   ]
  },
  {
   "cell_type": "code",
   "execution_count": 29,
   "metadata": {},
   "outputs": [
    {
     "name": "stdout",
     "output_type": "stream",
     "text": [
      "Total memory usage: 2.59 GB\n"
     ]
    }
   ],
   "source": [
    "print(\"Total memory usage:\", round(sum(data_df.memory_usage(deep=True, index=False)) / (1024 ** 3), 2), \"GB\")"
   ]
  },
  {
   "cell_type": "code",
   "execution_count": 40,
   "metadata": {},
   "outputs": [
    {
     "name": "stdout",
     "output_type": "stream",
     "text": [
      "CPU times: user 1.48 s, sys: 1.7 s, total: 3.17 s\n",
      "Wall time: 2.47 s\n"
     ]
    }
   ],
   "source": [
    "%time data_df.to_feather(\"../../datasets/taxi-trips/taxi_trips_small_trimmed.feather\")"
   ]
  },
  {
   "cell_type": "code",
   "execution_count": 42,
   "metadata": {},
   "outputs": [
    {
     "name": "stdout",
     "output_type": "stream",
     "text": [
      "-rw-r--r-- 1 shahbaz shahbaz 1008M Aug  7 22:58 ../datasets/taxi-trips/taxi_trips_small.csv.gz\r\n",
      "-rw-r--r-- 1 shahbaz shahbaz  3.4G Aug  7 23:06 ../datasets/taxi-trips/taxi_trips_small.csv\r\n",
      "-rw-r--r-- 1 shahbaz shahbaz  154M Aug  7 23:25 ../datasets/taxi-trips/taxi_trips_smaller.csv.gz\r\n",
      "-rw-r--r-- 1 shahbaz shahbaz  456M Aug  7 23:26 ../datasets/taxi-trips/taxi_trips_smaller.csv\r\n",
      "-rw-r--r-- 1 shahbaz shahbaz  4.4G Aug  8 20:36 ../datasets/taxi-trips/taxi_trips_small.feather\r\n",
      "-rw-r--r-- 1 shahbaz shahbaz  2.1G Aug 10 13:20 ../datasets/taxi-trips/taxi_trips_small_trimmed.feather\r\n"
     ]
    }
   ],
   "source": [
    "!ls -ltrhc ../../datasets/taxi-trips/taxi_trips*"
   ]
  },
  {
   "cell_type": "code",
   "execution_count": null,
   "metadata": {},
   "outputs": [],
   "source": []
  },
  {
   "cell_type": "markdown",
   "metadata": {},
   "source": [
    "### _Awesome_ reference:\n",
    "https://www.dataquest.io/blog/pandas-big-data/"
   ]
  },
  {
   "cell_type": "code",
   "execution_count": null,
   "metadata": {},
   "outputs": [],
   "source": []
  },
  {
   "cell_type": "code",
   "execution_count": null,
   "metadata": {},
   "outputs": [],
   "source": []
  }
 ],
 "metadata": {
  "kernelspec": {
   "display_name": "Python 3",
   "language": "python",
   "name": "python3"
  },
  "language_info": {
   "codemirror_mode": {
    "name": "ipython",
    "version": 3
   },
   "file_extension": ".py",
   "mimetype": "text/x-python",
   "name": "python",
   "nbconvert_exporter": "python",
   "pygments_lexer": "ipython3",
   "version": "3.7.3"
  }
 },
 "nbformat": 4,
 "nbformat_minor": 2
}
