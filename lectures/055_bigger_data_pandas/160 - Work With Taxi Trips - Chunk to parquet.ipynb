{
 "cells": [
  {
   "cell_type": "code",
   "execution_count": 1,
   "metadata": {},
   "outputs": [],
   "source": [
    "import pandas as pd\n",
    "\n",
    "from tqdm import tqdm, tqdm_notebook, tnrange\n",
    "tqdm.pandas()"
   ]
  },
  {
   "cell_type": "markdown",
   "metadata": {},
   "source": [
    "### Go through a large csv and convert to parquet"
   ]
  },
  {
   "cell_type": "code",
   "execution_count": 2,
   "metadata": {},
   "outputs": [],
   "source": [
    "schema = {'Trip ID': 'str',\n",
    " 'Taxi ID': 'category',\n",
    " 'Trip Start Timestamp': 'str',\n",
    " 'Trip End Timestamp': 'str',\n",
    " 'Trip Seconds': 'float64',\n",
    " 'Trip Miles': 'float64',\n",
    " 'Pickup Census Tract': 'float64',\n",
    " 'Dropoff Census Tract': 'float64',\n",
    " 'Pickup Community Area': 'float64',\n",
    " 'Dropoff Community Area': 'float64',\n",
    " 'Fare': 'float64',\n",
    " 'Tips': 'float64',\n",
    " 'Tolls': 'float64',\n",
    " 'Extras': 'float64',\n",
    " 'Trip Total': 'float64',\n",
    " 'Payment Type': 'category',\n",
    " 'Company': 'category',\n",
    " 'Pickup Centroid Latitude': 'float64',\n",
    " 'Pickup Centroid Longitude': 'float64',\n",
    " 'Pickup Centroid Location': 'str',\n",
    " 'Dropoff Centroid Latitude': 'float64',\n",
    " 'Dropoff Centroid Longitude': 'float64',\n",
    " 'Dropoff Centroid  Location': 'str',\n",
    " 'Community Areas': 'float64'}\n",
    "\n",
    "usecols = ['Trip ID', 'Taxi ID', 'Trip Start Timestamp', 'Trip End Timestamp',\\\n",
    "       'Trip Seconds', 'Trip Miles', 'Pickup Census Tract',\\\n",
    "       'Dropoff Census Tract', 'Pickup Community Area',\\\n",
    "       'Dropoff Community Area', 'Fare', 'Tips', 'Tolls', 'Extras',\\\n",
    "       'Trip Total', 'Payment Type', 'Company', 'Pickup Centroid Latitude',\\\n",
    "       'Pickup Centroid Longitude', 'Dropoff Centroid Latitude',\\\n",
    "       'Dropoff Centroid Longitude', 'Community Areas']\n",
    "\n"
   ]
  },
  {
   "cell_type": "code",
   "execution_count": 3,
   "metadata": {
    "scrolled": false
   },
   "outputs": [
    {
     "name": "stderr",
     "output_type": "stream",
     "text": [
      "114it [7:06:22, 163.28s/it]"
     ]
    },
    {
     "name": "stdout",
     "output_type": "stream",
     "text": [
      "CPU times: user 7h 6min 33s, sys: 1min 3s, total: 7h 7min 36s\n",
      "Wall time: 7h 6min 22s\n"
     ]
    },
    {
     "name": "stderr",
     "output_type": "stream",
     "text": [
      "\n"
     ]
    }
   ],
   "source": [
    "%%time\n",
    "chunk_size = 1_000_000\n",
    "for chunk_counter, chunk_df in enumerate(tqdm(pd.read_csv(\"../../datasets/taxi-trips/Taxi_Trips.csv.gz\" \\\n",
    "                            , dtype = schema \\\n",
    "                            , usecols = usecols \\\n",
    "                            , parse_dates = ['Trip Start Timestamp', 'Trip End Timestamp'] \\\n",
    "                            , compression = \"gzip\"\\\n",
    "                            , chunksize=chunk_size))):\n",
    "    OUTFILE = \"../../datasets/taxi-trips/taxi_trips_parquet/taxi_trips_\"+str(chunk_counter)+\".parquet\"\n",
    "    chunk_df.to_parquet(OUTFILE, compression='gzip')"
   ]
  },
  {
   "cell_type": "code",
   "execution_count": null,
   "metadata": {},
   "outputs": [],
   "source": []
  }
 ],
 "metadata": {
  "kernelspec": {
   "display_name": "Python 3",
   "language": "python",
   "name": "python3"
  },
  "language_info": {
   "codemirror_mode": {
    "name": "ipython",
    "version": 3
   },
   "file_extension": ".py",
   "mimetype": "text/x-python",
   "name": "python",
   "nbconvert_exporter": "python",
   "pygments_lexer": "ipython3",
   "version": "3.7.3"
  }
 },
 "nbformat": 4,
 "nbformat_minor": 2
}
