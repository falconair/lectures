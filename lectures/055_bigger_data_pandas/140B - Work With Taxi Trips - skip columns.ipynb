{
 "cells": [
  {
   "cell_type": "code",
   "execution_count": 2,
   "metadata": {},
   "outputs": [],
   "source": [
    "import numpy as np\n",
    "import pandas as pd"
   ]
  },
  {
   "cell_type": "code",
   "execution_count": 35,
   "metadata": {},
   "outputs": [
    {
     "name": "stdout",
     "output_type": "stream",
     "text": [
      "CPU times: user 41min 4s, sys: 4.24 s, total: 41min 9s\n",
      "Wall time: 41min 8s\n"
     ]
    }
   ],
   "source": [
    "schema = {'Trip ID': 'str',\n",
    " 'Taxi ID': 'category',\n",
    " 'Trip Start Timestamp': 'str',\n",
    " 'Trip End Timestamp': 'str',\n",
    " 'Trip Seconds': 'float64',\n",
    " 'Trip Miles': 'float64',\n",
    " 'Pickup Census Tract': 'float64',\n",
    " 'Dropoff Census Tract': 'float64',\n",
    " 'Pickup Community Area': 'float64',\n",
    " 'Dropoff Community Area': 'float64',\n",
    " 'Fare': 'float64',\n",
    " 'Tips': 'float64',\n",
    " 'Tolls': 'float64',\n",
    " 'Extras': 'float64',\n",
    " 'Trip Total': 'float64',\n",
    " 'Payment Type': 'category',\n",
    " 'Company': 'category',\n",
    " 'Pickup Centroid Latitude': 'float64',\n",
    " 'Pickup Centroid Longitude': 'float64',\n",
    " 'Pickup Centroid Location': 'str',\n",
    " 'Dropoff Centroid Latitude': 'float64',\n",
    " 'Dropoff Centroid Longitude': 'float64',\n",
    " 'Dropoff Centroid  Location': 'str',\n",
    " 'Community Areas': 'float64'}\n",
    "\n",
    "usecols = ['Trip ID', 'Taxi ID', 'Trip Start Timestamp', 'Trip End Timestamp',\\\n",
    "       'Trip Seconds', 'Trip Miles', 'Pickup Census Tract',\\\n",
    "       'Dropoff Census Tract', 'Pickup Community Area',\\\n",
    "       'Dropoff Community Area', 'Fare', 'Tips', 'Tolls', 'Extras',\\\n",
    "       'Trip Total', 'Payment Type', 'Company', 'Pickup Centroid Latitude',\\\n",
    "       'Pickup Centroid Longitude', 'Dropoff Centroid Latitude',\\\n",
    "       'Dropoff Centroid Longitude', 'Community Areas']\n",
    "\n",
    "%time data_df = pd.read_csv(\"../../datasets/taxi-trips/taxi_trips_small.csv\" \\\n",
    "                            , dtype = schema \\\n",
    "                            , usecols = usecols \\\n",
    "                            , parse_dates = ['Trip Start Timestamp', 'Trip End Timestamp'])"
   ]
  },
  {
   "cell_type": "code",
   "execution_count": 36,
   "metadata": {},
   "outputs": [
    {
     "name": "stdout",
     "output_type": "stream",
     "text": [
      "Total memory usage: 2.59 GB\n",
      "CPU times: user 5.27 s, sys: 3 µs, total: 5.27 s\n",
      "Wall time: 5.29 s\n"
     ]
    }
   ],
   "source": [
    "%time print(\"Total memory usage:\", round(sum(data_df.memory_usage(deep=True, index=False)) / (1024 ** 3), 2), \"GB\")"
   ]
  },
  {
   "cell_type": "code",
   "execution_count": null,
   "metadata": {},
   "outputs": [],
   "source": []
  }
 ],
 "metadata": {
  "kernelspec": {
   "display_name": "Python 3",
   "language": "python",
   "name": "python3"
  },
  "language_info": {
   "codemirror_mode": {
    "name": "ipython",
    "version": 3
   },
   "file_extension": ".py",
   "mimetype": "text/x-python",
   "name": "python",
   "nbconvert_exporter": "python",
   "pygments_lexer": "ipython3",
   "version": "3.7.3"
  }
 },
 "nbformat": 4,
 "nbformat_minor": 2
}
