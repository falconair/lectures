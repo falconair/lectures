{
 "cells": [
  {
   "cell_type": "markdown",
   "id": "02def43a-d209-41ef-adfb-b39f7da7e946",
   "metadata": {},
   "source": [
    "# Jupyter Widgets"
   ]
  },
  {
   "cell_type": "markdown",
   "id": "95bda498-2f48-4152-a497-73634803adcd",
   "metadata": {},
   "source": [
    "Jupyter's widgets take interactivity to a new level! You can create user interface elements which let you or your user interact with your code via graphical elements."
   ]
  },
  {
   "cell_type": "markdown",
   "id": "c56eae6a-3962-4c3d-a827-74dc7ef04f65",
   "metadata": {},
   "source": [
    "#### Import library"
   ]
  },
  {
   "cell_type": "code",
   "execution_count": null,
   "id": "0bbce1c7-36ac-4bd7-9cd3-0a51c7375e5d",
   "metadata": {},
   "outputs": [],
   "source": [
    "import ipywidgets as widgets"
   ]
  },
  {
   "cell_type": "markdown",
   "id": "bd744e23-4115-4dd5-8779-d75bdeadc7c9",
   "metadata": {},
   "source": [
    "#### Try out some widgets"
   ]
  },
  {
   "cell_type": "markdown",
   "id": "f2c42495-d791-4281-a2fe-a07a43d9e2ed",
   "metadata": {},
   "source": [
    "Set a variable via a widget"
   ]
  },
  {
   "cell_type": "code",
   "execution_count": null,
   "id": "61dc64f9-1089-40fc-9d2e-6a031f238534",
   "metadata": {},
   "outputs": [],
   "source": [
    "int_slider = widgets.IntSlider()\n",
    "int_slider"
   ]
  },
  {
   "cell_type": "code",
   "execution_count": null,
   "id": "c8ff4bc0-7835-486d-ac9d-c18665c93c81",
   "metadata": {},
   "outputs": [],
   "source": [
    "int_slider.value"
   ]
  },
  {
   "cell_type": "markdown",
   "id": "3a68eaa5-d934-44bd-9c22-210afb061f0f",
   "metadata": {},
   "source": [
    "Some quick examples"
   ]
  },
  {
   "cell_type": "code",
   "execution_count": null,
   "id": "edb5b0b8-ae83-4e20-917f-ec313310fb76",
   "metadata": {},
   "outputs": [],
   "source": [
    "int_range_slider = widgets.IntRangeSlider()\n",
    "int_range_slider"
   ]
  },
  {
   "cell_type": "code",
   "execution_count": null,
   "id": "fdb38698-b257-4f6d-9ab7-eb1fcad105ef",
   "metadata": {},
   "outputs": [],
   "source": [
    "int_range_slider.value"
   ]
  },
  {
   "cell_type": "code",
   "execution_count": null,
   "id": "a4bfde38-46e5-4c63-99bf-bfb934135c01",
   "metadata": {},
   "outputs": [],
   "source": [
    "toggle_button = widgets.ToggleButton(value=True, description=\"Flip me\")\n",
    "toggle_button"
   ]
  },
  {
   "cell_type": "code",
   "execution_count": null,
   "id": "9b4116fd-1d22-4934-8d29-6333b347af3b",
   "metadata": {},
   "outputs": [],
   "source": [
    "toggle_button.value"
   ]
  },
  {
   "cell_type": "code",
   "execution_count": null,
   "id": "504b39fd-049e-4ffe-ada9-09d01b65ffe6",
   "metadata": {},
   "outputs": [],
   "source": [
    "checkbox = widgets.Checkbox(value=True, description=\"Check me\")\n",
    "checkbox"
   ]
  },
  {
   "cell_type": "code",
   "execution_count": null,
   "id": "3cdb1f3c-6408-4285-9a34-d5b5ddbf06da",
   "metadata": {},
   "outputs": [],
   "source": [
    "checkbox.value"
   ]
  },
  {
   "cell_type": "code",
   "execution_count": null,
   "id": "60ae595e-9c99-43de-803c-aa9fb5dbfc66",
   "metadata": {},
   "outputs": [],
   "source": [
    "date_picker = widgets.DatePicker()\n",
    "date_picker"
   ]
  },
  {
   "cell_type": "code",
   "execution_count": null,
   "id": "ba682636-2a47-43bc-83e4-29da9d7f9dd2",
   "metadata": {},
   "outputs": [],
   "source": [
    "date_picker.value"
   ]
  },
  {
   "cell_type": "markdown",
   "id": "8a77d4d6-995c-4369-848f-c90c6f8d396e",
   "metadata": {},
   "source": [
    "See this link for full list: \n",
    "https://ipywidgets.readthedocs.io/en/stable/examples/Widget%20List.html"
   ]
  },
  {
   "cell_type": "markdown",
   "id": "f4dc34db-cbe0-4b9a-aa67-ccdbbd0e049b",
   "metadata": {},
   "source": [
    "### You can use these widgets to help you explore ideas _much_ more effectively"
   ]
  },
  {
   "cell_type": "code",
   "execution_count": null,
   "id": "1ec233ea-3385-4573-a55b-79202d561489",
   "metadata": {},
   "outputs": [],
   "source": [
    "def test_function(x):\n",
    "    return x + 100"
   ]
  },
  {
   "cell_type": "code",
   "execution_count": null,
   "id": "f308825f-dd50-40f6-8342-d2521746d9ff",
   "metadata": {},
   "outputs": [],
   "source": [
    "widgets.interact(test_function, x = 5)"
   ]
  },
  {
   "cell_type": "markdown",
   "id": "ec821c1f-d045-421f-974b-672c2d784faa",
   "metadata": {},
   "source": [
    "#### Which chart do you want to see?"
   ]
  },
  {
   "cell_type": "code",
   "execution_count": null,
   "id": "6326ffce-2b32-420d-bc05-c3858064d8ef",
   "metadata": {},
   "outputs": [],
   "source": [
    "import pandas as pd"
   ]
  },
  {
   "cell_type": "code",
   "execution_count": null,
   "id": "cc273d9e-abc2-4d16-963e-130f575128f7",
   "metadata": {},
   "outputs": [],
   "source": [
    "life_df = pd.read_csv('../../datasets/life-expectancy/life-expectancy-who.zip2', compression='zip')"
   ]
  },
  {
   "cell_type": "code",
   "execution_count": null,
   "id": "855ae454-82ae-47fc-bdd9-1e5902f5726d",
   "metadata": {},
   "outputs": [],
   "source": [
    "life_df.head()"
   ]
  },
  {
   "cell_type": "markdown",
   "id": "5a2b1bf7-ef6a-41af-808c-2d41fbf7dd92",
   "metadata": {},
   "source": [
    "#### Display only the chart you wish to see"
   ]
  },
  {
   "cell_type": "code",
   "execution_count": null,
   "id": "6051b0b4-bfdd-428a-9e1a-51cd2423aafc",
   "metadata": {},
   "outputs": [],
   "source": [
    "colA = widgets.Dropdown(options=life_df.columns)\n",
    "colB = widgets.Dropdown(options=life_df.columns)"
   ]
  },
  {
   "cell_type": "code",
   "execution_count": null,
   "id": "1fef7f60-4766-4b34-8c42-5ac875e4755a",
   "metadata": {},
   "outputs": [],
   "source": [
    "display(colA)\n",
    "display(colB)"
   ]
  },
  {
   "cell_type": "code",
   "execution_count": null,
   "id": "3fc2d598-bce5-41b1-9bf4-0a433cc31b37",
   "metadata": {},
   "outputs": [],
   "source": [
    "life_df.plot.scatter(colA.value, colB.value, figsize=(20, 10))"
   ]
  },
  {
   "cell_type": "markdown",
   "id": "29d2b2b5-8966-4edd-bde4-a8b41e01887d",
   "metadata": {},
   "source": [
    "#### Use radio buttons to decide the target variable for a model"
   ]
  },
  {
   "cell_type": "code",
   "execution_count": null,
   "id": "190bebeb-5651-4b6f-834e-41a58c1581b4",
   "metadata": {},
   "outputs": [],
   "source": [
    "widgets.RadioButtons(options=life_df.columns)"
   ]
  },
  {
   "cell_type": "code",
   "execution_count": null,
   "id": "d9608990-e6d0-4e91-8182-c5149c4f111f",
   "metadata": {},
   "outputs": [],
   "source": [
    "is_categorical = (life_df.nunique() / life_df.count()) * 100 < 10"
   ]
  },
  {
   "cell_type": "code",
   "execution_count": null,
   "id": "682b3fcf-d7ff-4a29-a459-9d3216070575",
   "metadata": {},
   "outputs": [],
   "source": [
    "life_df.dtypes"
   ]
  },
  {
   "cell_type": "code",
   "execution_count": null,
   "id": "83441d61-e879-4ba4-99df-f88bd5c47b60",
   "metadata": {},
   "outputs": [],
   "source": []
  }
 ],
 "metadata": {
  "kernelspec": {
   "display_name": "Python 3 (ipykernel)",
   "language": "python",
   "name": "python3"
  },
  "language_info": {
   "codemirror_mode": {
    "name": "ipython",
    "version": 3
   },
   "file_extension": ".py",
   "mimetype": "text/x-python",
   "name": "python",
   "nbconvert_exporter": "python",
   "pygments_lexer": "ipython3",
   "version": "3.8.10"
  }
 },
 "nbformat": 4,
 "nbformat_minor": 5
}
