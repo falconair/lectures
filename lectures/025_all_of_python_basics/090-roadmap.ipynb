{
 "cells": [
  {
   "cell_type": "markdown",
   "id": "44ab0477-e109-4dc1-83d4-8b8071136645",
   "metadata": {},
   "source": [
    "# What we learn, when we are learning programming languages"
   ]
  },
  {
   "cell_type": "markdown",
   "id": "2c64bc0b-78c7-4b95-a212-34491d0bb610",
   "metadata": {},
   "source": [
    "Before anything else, let's look at a map of the journey we are about to undertake. Porgramming langauges are used for data analysis, complex machine learning models, creating video games where you can explore whole galaxies, all of youtube, google, controls of cars and space shuttles...[almost everything in the world](https://a16z.com/2011/08/20/why-software-is-eating-the-world/)."
   ]
  },
  {
   "cell_type": "markdown",
   "id": "dfc17055-21a9-4a5c-910e-c4206a853906",
   "metadata": {},
   "source": [
    "Suprisingly, the components which make up a programming language are not very complex. In this class, we will learn about these components and how to put them together to create  useful programs."
   ]
  },
  {
   "cell_type": "markdown",
   "id": "c608b572-29c9-44bc-893a-ad022e05d952",
   "metadata": {},
   "source": [
    "This is a broad (and necessarily incomplete) outline:"
   ]
  },
  {
   "cell_type": "markdown",
   "id": "5ab75289-470f-4fcc-801c-90bde8b998ac",
   "metadata": {},
   "source": [
    "### Data types\n",
    "Calculators can only deal with numbers. Programming languages understand \n",
    "1. numbers\n",
    "2. text (called \"strings\")\n",
    "3. truthfulness and falsehood of logical statements (called \"boolean\")\n",
    "4. infinite variety, made up of combining the basic elements shown here"
   ]
  },
  {
   "cell_type": "markdown",
   "id": "8d301b4f-73bc-4bbd-8ec4-8caddebc5d56",
   "metadata": {},
   "source": [
    "### Container types\n",
    "It is one thing to deal with single numbers or individual strings, programming languages provide \"data structures\" which let us deal with a collection of objects, such as:\n",
    "1. lists\n",
    "2. dictionaries\n",
    "3. sets\n",
    "4. infinite variety, made up of combining the basic elements shown here"
   ]
  },
  {
   "cell_type": "markdown",
   "id": "144e7f6c-23c2-4fe4-9251-b6d6b1a0d16b",
   "metadata": {},
   "source": [
    "### Control flow\n",
    "Much of the power of computers  come from programming computers to repeat tasks as many times as we want or to have programs decide, while running, which path to take. As such, the control flow methods we will study are:\n",
    "1. if/else statements (called \"conditionals\")\n",
    "2. for and while loops"
   ]
  },
  {
   "cell_type": "markdown",
   "id": "4628dd8f-887b-46b7-b3b0-97422126a9bb",
   "metadata": {},
   "source": [
    "### Operations\n",
    "Just like a calculator contains numbers, and operations on those numbers, such as plus, minus, divide, multiply, programming languages are a collection of a very large number of operations. Languages provide functions which operate on\n",
    "1. data types, such as numbers, strings, booleans, etc.\n",
    "2. container types, such as lists, dictionaries, sets, etc.\n",
    "3. infinite variety...you get the point"
   ]
  },
  {
   "cell_type": "code",
   "execution_count": null,
   "id": "a925b147-936b-45cf-8c86-3e54dce080de",
   "metadata": {},
   "outputs": [],
   "source": []
  }
 ],
 "metadata": {
  "kernelspec": {
   "display_name": "Python 3 (ipykernel)",
   "language": "python",
   "name": "python3"
  },
  "language_info": {
   "codemirror_mode": {
    "name": "ipython",
    "version": 3
   },
   "file_extension": ".py",
   "mimetype": "text/x-python",
   "name": "python",
   "nbconvert_exporter": "python",
   "pygments_lexer": "ipython3",
   "version": "3.8.10"
  }
 },
 "nbformat": 4,
 "nbformat_minor": 5
}
