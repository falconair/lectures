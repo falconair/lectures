{
 "cells": [
  {
   "cell_type": "code",
   "execution_count": null,
   "metadata": {},
   "outputs": [],
   "source": [
    "%reload_ext postcell\n",
    "%postcell register"
   ]
  },
  {
   "cell_type": "code",
   "execution_count": null,
   "metadata": {},
   "outputs": [],
   "source": [
    "from IPython.display import HTML, display\n",
    "import math"
   ]
  },
  {
   "cell_type": "code",
   "execution_count": null,
   "metadata": {},
   "outputs": [],
   "source": [
    "def show_methods(e):\n",
    "    return render_list([m for m in dir(e) if '__' not in m])\n",
    "    \n",
    "def render_list(l):\n",
    "    style = 'list-style-type:none;display:inline-block;margin:0px 1%;'\n",
    "    return HTML('<ul\">' + ''.join([f'<li style=\"{style}\"><b>{m}</b></li>' for m in l]) + '</ul>') "
   ]
  },
  {
   "cell_type": "markdown",
   "metadata": {},
   "source": [
    "# All of Python - The Basics\n",
    "\n",
    "This notebook will introduce enough of Python and programming concepts to enable you to write basic programs.\n",
    "\n",
    "We are taking a \"breadth first\" approach, rather than \"depth first.\""
   ]
  },
  {
   "cell_type": "markdown",
   "metadata": {},
   "source": [
    "## Built-In Data Types\n",
    "\n",
    "Python provides several built-in data types to represent numbers, text, true/false (boolean) value and others. In this calss, we will skip types such as bytes and complex numbers.\n",
    "\n",
    "### Numbers\n",
    "There are actually _two_ common number types: integer style numbers and decimal style numbers (aka floating point numbers). In Python, these are called `int` and `float`. Integers don't have any decimal parts while floating point numbers do.\n",
    "\n",
    "As we will see in the computer architecture lecture, the algorithms and actual, physical hardware to do math on integers and floating point numbers is different.\n",
    "\n",
    "**Warning** Floating point numbers are not exact. This becomes extremely important when we need to compare numbers. If you add 10 cents and 20 cents, do you get 30 cents? We will look at the surprising answers later.\n",
    "\n",
    "Some languages refer to floating point numbers as doubles. Lower level programming languages have a whole heirarchy of numeric types to represent the range of values numeric types can take on. As we will see in the computer architecture lecture, numbers can not be arbitrarily large (or small).\n"
   ]
  },
  {
   "cell_type": "markdown",
   "metadata": {},
   "source": [
    "Use the function `type()` to find the type of an expression"
   ]
  },
  {
   "cell_type": "code",
   "execution_count": null,
   "metadata": {},
   "outputs": [],
   "source": [
    "type(100)"
   ]
  },
  {
   "cell_type": "code",
   "execution_count": null,
   "metadata": {},
   "outputs": [],
   "source": [
    "type(3.14)"
   ]
  },
  {
   "cell_type": "markdown",
   "metadata": {},
   "source": [
    "Combining `int` and `float` results in a `float`"
   ]
  },
  {
   "cell_type": "code",
   "execution_count": null,
   "metadata": {},
   "outputs": [],
   "source": [
    "type( 100 + 3.14 )"
   ]
  },
  {
   "cell_type": "markdown",
   "metadata": {},
   "source": [
    "**Exercise** Check the type of `100.0`?"
   ]
  },
  {
   "cell_type": "code",
   "execution_count": null,
   "metadata": {},
   "outputs": [],
   "source": [
    "%%postcell exercise_025_100_a\n",
    "\n",
    "#type your answer here"
   ]
  },
  {
   "cell_type": "markdown",
   "metadata": {},
   "source": [
    "**Warning** Watch the next calculation carefully:"
   ]
  },
  {
   "cell_type": "markdown",
   "metadata": {},
   "source": [
    "**PEMDAS**\n",
    "Precededence of operators: parenthesis, exponentiation, multplication, division, addition, subtraction\n",
    "\n",
    "How is the following expression evaluated `1 + 2 * 3`?"
   ]
  },
  {
   "cell_type": "code",
   "execution_count": null,
   "metadata": {},
   "outputs": [],
   "source": [
    "1 + 2 * 3"
   ]
  },
  {
   "cell_type": "code",
   "execution_count": null,
   "metadata": {},
   "outputs": [],
   "source": [
    "(1 + 2) * 3"
   ]
  },
  {
   "cell_type": "markdown",
   "metadata": {},
   "source": [
    "**Floating point limits**\n",
    "\n",
    "There are an infinite points between 1 and 2. Basic math functions like addition and multplication is implemented in CPU hardware. How can limited hardware support potentially infinite points? It can't!"
   ]
  },
  {
   "cell_type": "code",
   "execution_count": null,
   "metadata": {},
   "outputs": [],
   "source": [
    ".1 + .3"
   ]
  },
  {
   "cell_type": "code",
   "execution_count": null,
   "metadata": {},
   "outputs": [],
   "source": [
    ".1 + .4"
   ]
  },
  {
   "cell_type": "code",
   "execution_count": null,
   "metadata": {},
   "outputs": [],
   "source": [
    ".1 + .5"
   ]
  },
  {
   "cell_type": "code",
   "execution_count": null,
   "metadata": {},
   "outputs": [],
   "source": [
    ".2 + .3"
   ]
  },
  {
   "cell_type": "code",
   "execution_count": null,
   "metadata": {},
   "outputs": [],
   "source": [
    ".2 + .5"
   ]
  },
  {
   "cell_type": "code",
   "execution_count": null,
   "metadata": {},
   "outputs": [],
   "source": [
    ".1 + .2"
   ]
  },
  {
   "cell_type": "code",
   "execution_count": null,
   "metadata": {},
   "outputs": [],
   "source": [
    ".1 + .2 == .3"
   ]
  },
  {
   "cell_type": "markdown",
   "metadata": {},
   "source": [
    "##### Operators available on numbers"
   ]
  },
  {
   "cell_type": "markdown",
   "metadata": {},
   "source": [
    "| | |\n",
    "|---|---|\n",
    "|+| addition|\n",
    "|-| subtraction|\n",
    "|*| multiplication|\n",
    "|/| division|\n",
    "|//| safe or integer division |\n",
    "|**| exponentiation (not '^')|\n",
    "|%| modulus|\n"
   ]
  },
  {
   "cell_type": "markdown",
   "metadata": {},
   "source": [
    "### Words and characters\n",
    "Python has a single type to represent words and characters. Many lower level languages have one type to represent single characters (usually called `char`) and another to represent collections of characters, such as words, sentences, web pages, books, etc. This data type is usually called a `string` (sometimes abbrevaited as `str` or caplitalized as `String`). Imagine a `string` as a long strand, connecting characters.\n",
    "\n",
    "![](images/best-mommy-ever-jewelry.jpg)\n",
    "\n",
    "Python has an `str` type to represent strings (and characters)."
   ]
  },
  {
   "cell_type": "code",
   "execution_count": null,
   "metadata": {},
   "outputs": [],
   "source": [
    "type(\"hello!\")"
   ]
  },
  {
   "cell_type": "code",
   "execution_count": null,
   "metadata": {},
   "outputs": [],
   "source": [
    "type('hello!')"
   ]
  },
  {
   "cell_type": "code",
   "execution_count": null,
   "metadata": {},
   "outputs": [],
   "source": [
    "type(hello) #<== What is going on here?"
   ]
  },
  {
   "cell_type": "code",
   "execution_count": null,
   "metadata": {},
   "outputs": [],
   "source": [
    "hello = \"hi\" #10"
   ]
  },
  {
   "cell_type": "code",
   "execution_count": null,
   "metadata": {},
   "outputs": [],
   "source": [
    "hello"
   ]
  },
  {
   "cell_type": "code",
   "execution_count": null,
   "metadata": {},
   "outputs": [],
   "source": [
    "type(hello)"
   ]
  },
  {
   "cell_type": "code",
   "execution_count": null,
   "metadata": {},
   "outputs": [],
   "source": [
    "type(\"A\")"
   ]
  },
  {
   "cell_type": "code",
   "execution_count": null,
   "metadata": {},
   "outputs": [],
   "source": [
    "type('A')"
   ]
  },
  {
   "cell_type": "markdown",
   "metadata": {},
   "source": [
    "**What is the type of 1 vs \"1\"?**"
   ]
  },
  {
   "cell_type": "code",
   "execution_count": null,
   "metadata": {},
   "outputs": [],
   "source": [
    "#Try it here"
   ]
  },
  {
   "cell_type": "code",
   "execution_count": null,
   "metadata": {},
   "outputs": [],
   "source": [
    "type(\"1\")"
   ]
  },
  {
   "cell_type": "markdown",
   "metadata": {},
   "source": [
    "What happens if we add two strings?"
   ]
  },
  {
   "cell_type": "code",
   "execution_count": null,
   "metadata": {},
   "outputs": [],
   "source": [
    "\"hello\" + \"world\""
   ]
  },
  {
   "cell_type": "code",
   "execution_count": null,
   "metadata": {},
   "outputs": [],
   "source": [
    "\"1\" + \"2\" # What is going on here?"
   ]
  },
  {
   "cell_type": "code",
   "execution_count": null,
   "metadata": {},
   "outputs": [],
   "source": [
    "type(\"1\" + \"2\")"
   ]
  },
  {
   "cell_type": "code",
   "execution_count": null,
   "metadata": {},
   "outputs": [],
   "source": [
    "\"hello \" * 5"
   ]
  },
  {
   "cell_type": "markdown",
   "metadata": {},
   "source": [
    "**Exercise** Use `dir()` to find all operations available on an object \"hello\""
   ]
  },
  {
   "cell_type": "code",
   "execution_count": null,
   "metadata": {
    "tags": []
   },
   "outputs": [],
   "source": [
    "%%postcell exercise_025_100_b\n",
    "\n",
    "#Type answer here"
   ]
  },
  {
   "cell_type": "markdown",
   "metadata": {},
   "source": [
    "**Exercise** Reminder that you can quickly find out what a function does by trying it out in a cell. Execute the next two cells, what do `strip()` and `replace()` functions do?"
   ]
  },
  {
   "cell_type": "code",
   "execution_count": null,
   "metadata": {},
   "outputs": [],
   "source": [
    "print(\"hello \\n world\")"
   ]
  },
  {
   "cell_type": "code",
   "execution_count": null,
   "metadata": {},
   "outputs": [],
   "source": [
    "\"   hello  \".strip()"
   ]
  },
  {
   "cell_type": "code",
   "execution_count": null,
   "metadata": {},
   "outputs": [],
   "source": [
    "print(\" hello \\n\")"
   ]
  },
  {
   "cell_type": "code",
   "execution_count": null,
   "metadata": {},
   "outputs": [],
   "source": [
    "\" hello \\n\".strip()"
   ]
  },
  {
   "cell_type": "code",
   "execution_count": null,
   "metadata": {},
   "outputs": [],
   "source": [
    "\"hello\".replace('o','a')"
   ]
  },
  {
   "cell_type": "markdown",
   "metadata": {},
   "source": [
    "##### Methods available on strings"
   ]
  },
  {
   "cell_type": "code",
   "execution_count": null,
   "metadata": {},
   "outputs": [],
   "source": [
    "show_methods(\"hello\")"
   ]
  },
  {
   "cell_type": "markdown",
   "metadata": {},
   "source": [
    "##### Operators available on strings"
   ]
  },
  {
   "cell_type": "markdown",
   "metadata": {},
   "source": [
    "| | |\n",
    "|---|---|\n",
    "|+| concatenate (combine) two strings|\n",
    "|*| repeat string a number of times|\n"
   ]
  },
  {
   "cell_type": "markdown",
   "metadata": {},
   "source": [
    "More useful operations on strings are described in the `list` section"
   ]
  },
  {
   "cell_type": "markdown",
   "metadata": {
    "tags": []
   },
   "source": [
    "### Type conversion Detour\n",
    "\n",
    "Say you read a file which contains a line containing this: \n",
    "```\n",
    "Homer Simpson\n",
    "```\n",
    "\n",
    "You know that is a string type. What if the line contains \n",
    "\n",
    "```\n",
    "100\n",
    "```\n",
    "When python gets input from the outside world (using the method used so far), it has no idea if it is dealing with an integer, float, a picture or an audio file of a song. It assumes everything is a string. Lucky for us, there are several functions which convert from one type to another."
   ]
  },
  {
   "cell_type": "code",
   "execution_count": null,
   "metadata": {},
   "outputs": [],
   "source": [
    "type(100)"
   ]
  },
  {
   "cell_type": "code",
   "execution_count": null,
   "metadata": {},
   "outputs": [],
   "source": [
    "type(\"100\")"
   ]
  },
  {
   "cell_type": "code",
   "execution_count": null,
   "metadata": {},
   "outputs": [],
   "source": [
    "int(\"100\")"
   ]
  },
  {
   "cell_type": "code",
   "execution_count": null,
   "metadata": {},
   "outputs": [],
   "source": [
    "type(int(\"100\"))"
   ]
  },
  {
   "cell_type": "code",
   "execution_count": null,
   "metadata": {},
   "outputs": [],
   "source": [
    "int(\"hello\") #<== what happened?"
   ]
  },
  {
   "cell_type": "markdown",
   "metadata": {},
   "source": [
    "Notice that the `int` function converted a string to an integer. What if we hadn't convert \"100\" to a numeric value?"
   ]
  },
  {
   "cell_type": "code",
   "execution_count": null,
   "metadata": {},
   "outputs": [],
   "source": [
    "\"100\" + \"200\""
   ]
  },
  {
   "cell_type": "code",
   "execution_count": null,
   "metadata": {},
   "outputs": [],
   "source": [
    "int(\"100\") + int(\"200\")"
   ]
  },
  {
   "cell_type": "code",
   "execution_count": null,
   "metadata": {},
   "outputs": [],
   "source": [
    "int(\"100.2\") #<== what happened?"
   ]
  },
  {
   "cell_type": "code",
   "execution_count": null,
   "metadata": {},
   "outputs": [],
   "source": [
    "int(100.2)"
   ]
  },
  {
   "cell_type": "code",
   "execution_count": null,
   "metadata": {},
   "outputs": [],
   "source": [
    "int(float(\"100.2\"))"
   ]
  },
  {
   "cell_type": "code",
   "execution_count": null,
   "metadata": {},
   "outputs": [],
   "source": [
    "float(\"100.2\")"
   ]
  },
  {
   "cell_type": "code",
   "execution_count": null,
   "metadata": {},
   "outputs": [],
   "source": [
    "float(\"100\")"
   ]
  },
  {
   "cell_type": "code",
   "execution_count": null,
   "metadata": {},
   "outputs": [],
   "source": [
    "type(float(\"100\")) # Do you expect the output of this cell to be 'int' or 'float'?"
   ]
  },
  {
   "cell_type": "markdown",
   "metadata": {},
   "source": [
    "How about the other way, given an integer or a float, how do we convert it to a string?"
   ]
  },
  {
   "cell_type": "code",
   "execution_count": null,
   "metadata": {},
   "outputs": [],
   "source": [
    "\"Homer is \" + 34 + \" years old\""
   ]
  },
  {
   "cell_type": "code",
   "execution_count": null,
   "metadata": {},
   "outputs": [],
   "source": [
    "\"Homer is \" + str(34) + \" years old\""
   ]
  },
  {
   "cell_type": "code",
   "execution_count": null,
   "metadata": {},
   "outputs": [],
   "source": [
    "str(1234.567)"
   ]
  },
  {
   "cell_type": "code",
   "execution_count": null,
   "metadata": {},
   "outputs": [],
   "source": [
    "type(str(1234.567))"
   ]
  },
  {
   "cell_type": "code",
   "execution_count": null,
   "metadata": {},
   "outputs": [],
   "source": []
  },
  {
   "cell_type": "markdown",
   "metadata": {},
   "source": [
    "### Dates"
   ]
  },
  {
   "cell_type": "markdown",
   "metadata": {},
   "source": [
    "Like most languages, Python provides a `datetime` type. We can certainly represent dates as strings \"Nov 11, 2023\" or as a number _1699109972_ (number of seconds since some date). However, a type dedicated to dates can be very useful."
   ]
  },
  {
   "cell_type": "code",
   "execution_count": null,
   "metadata": {
    "tags": []
   },
   "outputs": [],
   "source": [
    "import datetime"
   ]
  },
  {
   "cell_type": "code",
   "execution_count": null,
   "metadata": {
    "tags": []
   },
   "outputs": [],
   "source": [
    "nov5 = datetime.datetime(2023, 11, 5, 6, 5, 3)# Nov 5, 6:05:03\n",
    "nov5"
   ]
  },
  {
   "cell_type": "code",
   "execution_count": null,
   "metadata": {
    "tags": []
   },
   "outputs": [],
   "source": [
    "type(nov5)"
   ]
  },
  {
   "cell_type": "markdown",
   "metadata": {},
   "source": [
    "Get current date and time"
   ]
  },
  {
   "cell_type": "code",
   "execution_count": null,
   "metadata": {
    "tags": []
   },
   "outputs": [],
   "source": [
    "datetime.datetime.now()"
   ]
  },
  {
   "cell_type": "markdown",
   "metadata": {},
   "source": [
    "Once a datetime object is created, it can provide very useful information"
   ]
  },
  {
   "cell_type": "code",
   "execution_count": null,
   "metadata": {
    "tags": []
   },
   "outputs": [],
   "source": [
    "nov5.year, nov5.month, nov5.day"
   ]
  },
  {
   "cell_type": "code",
   "execution_count": null,
   "metadata": {
    "tags": []
   },
   "outputs": [],
   "source": [
    "nov5.hour, nov5.minute, nov5.second"
   ]
  },
  {
   "cell_type": "markdown",
   "metadata": {},
   "source": [
    "Number of seconds since _epoch_ (Jan 1, 1970)"
   ]
  },
  {
   "cell_type": "code",
   "execution_count": null,
   "metadata": {
    "tags": []
   },
   "outputs": [],
   "source": [
    "nov5.timestamp()"
   ]
  },
  {
   "cell_type": "markdown",
   "metadata": {},
   "source": [
    "You can precisely control how dates and times a printed See this page for a table of formatters: https://www.w3schools.com/python/python_datetime.asp"
   ]
  },
  {
   "cell_type": "code",
   "execution_count": null,
   "metadata": {
    "tags": []
   },
   "outputs": [],
   "source": [
    "print( nov5.strftime(\"%B %d, %Y\") )\n",
    "print( nov5.strftime(\"%b %d, %Y\") )\n",
    "print( nov5.strftime(\"%d/%m/%Y\") )\n",
    "print( nov5.strftime(\"%m/%d/%Y\") )"
   ]
  },
  {
   "cell_type": "code",
   "execution_count": null,
   "metadata": {
    "tags": []
   },
   "outputs": [],
   "source": [
    "nov5.isoformat()"
   ]
  },
  {
   "cell_type": "markdown",
   "metadata": {},
   "source": [
    "You can use the same formatting strings to _parse_ dates"
   ]
  },
  {
   "cell_type": "code",
   "execution_count": null,
   "metadata": {
    "tags": []
   },
   "outputs": [],
   "source": [
    "date_string = \"Nov 5, 2023\"\n",
    "datetime.datetime.strptime(date_string, \"%b %d, %Y\")"
   ]
  },
  {
   "cell_type": "code",
   "execution_count": null,
   "metadata": {},
   "outputs": [],
   "source": []
  },
  {
   "cell_type": "code",
   "execution_count": null,
   "metadata": {
    "tags": []
   },
   "outputs": [],
   "source": [
    "nov5 + datetime.timedelta(days=1)"
   ]
  },
  {
   "cell_type": "code",
   "execution_count": null,
   "metadata": {
    "tags": []
   },
   "outputs": [],
   "source": [
    "show_methods(nov5)"
   ]
  },
  {
   "cell_type": "markdown",
   "metadata": {},
   "source": [
    "### Boolean (True and False)\n",
    "Python is among those languages which provide a way to represent `True` and `False` directly. This data type is unexpectedly common in programming languages. For example, if you ask Python if 5 is greater than 3, the answer will be a boolean value (hint: True). Numeric values have associated operations we are used to from school: addition, subtraction, etc. String types have natural function associated with them such as upper case, lower case, combining strings, etc. Similarly, there is a \"boolean algebra.\" We will introduce this later in the lecture.\n",
    "\n",
    "In many languages, even widely used ones like `C`, there is no explicit boolean type. Instead, the number `0` is used to represent false and `1` is used to represent true.\n",
    "\n",
    "Although Python has `True` and `False` keywords, they are actually just aliases for `1` and `0`, respectively!\n",
    "\n",
    "**Real world examples**\n",
    "\n",
    "While numbers and strings are natural to us, the boolean type needs some context. As you will see in the example below, comparing things requires an answer that is either true or false. \n",
    "\n",
    "Since computers are so good at doing repetitive tasks (executing loops), we need to tell the computer when to stop executing a loop. This is done by using booleans: keep doing something, until the value of a boolean is set to false.\n",
    "\n",
    "Although such statements haven't been introduced yet, you have probably heard of if/else statements. This is one of most common ways computers choose between options. Booleans are an integral part of such decisions. `if` a boolean value is `True`, then do this thing, `else` do something else. The operations carried out by your program depend on the value of a boolean value."
   ]
  },
  {
   "cell_type": "code",
   "execution_count": null,
   "metadata": {},
   "outputs": [],
   "source": [
    "type(True)"
   ]
  },
  {
   "cell_type": "code",
   "execution_count": null,
   "metadata": {},
   "outputs": [],
   "source": [
    "type(False)"
   ]
  },
  {
   "cell_type": "code",
   "execution_count": null,
   "metadata": {},
   "outputs": [],
   "source": [
    "5 > 3 # Is 5 greater than 3?"
   ]
  },
  {
   "cell_type": "code",
   "execution_count": null,
   "metadata": {},
   "outputs": [],
   "source": [
    "type(5 > 3)"
   ]
  },
  {
   "cell_type": "markdown",
   "metadata": {},
   "source": [
    "**Basic operations**\n",
    "\n",
    "Python provides the following comparison operators:"
   ]
  },
  {
   "cell_type": "code",
   "execution_count": null,
   "metadata": {},
   "outputs": [],
   "source": [
    "1 < 2 # is 1 less than 2?"
   ]
  },
  {
   "cell_type": "code",
   "execution_count": null,
   "metadata": {},
   "outputs": [],
   "source": [
    "1 > 2 # is 1 greater than 2?"
   ]
  },
  {
   "cell_type": "code",
   "execution_count": null,
   "metadata": {},
   "outputs": [],
   "source": [
    "1 <= 2 # is 1 less than or equal to 2?"
   ]
  },
  {
   "cell_type": "code",
   "execution_count": null,
   "metadata": {},
   "outputs": [],
   "source": [
    "1 >= 2 # what is this?"
   ]
  },
  {
   "cell_type": "markdown",
   "metadata": {},
   "source": [
    "Keep in mind that you obviously don't need to compare 1 and 2, you already know the answer, However, such comparisons are useful when one or both terms are variables. Notice in an earlier lecture where we used comparison operators to check if the record we were processing belonged to Arya Stark or other characters of interest.\n",
    "\n",
    "**Possibly confusing**"
   ]
  },
  {
   "cell_type": "code",
   "execution_count": null,
   "metadata": {},
   "outputs": [],
   "source": [
    "1 == 2 # is one EQUAL to 2?"
   ]
  },
  {
   "cell_type": "markdown",
   "metadata": {},
   "source": [
    "Notice that `=` is used for assignment of variables. Such as setting x equal to 10 `x = 10`. However, checking if one thing is equal to another is done via two equal signs `1 == 2`"
   ]
  },
  {
   "cell_type": "code",
   "execution_count": null,
   "metadata": {},
   "outputs": [],
   "source": [
    "1 != 2 #is 1 NOT EQUAL to 2? or is 1 different from 2?"
   ]
  },
  {
   "cell_type": "markdown",
   "metadata": {},
   "source": [
    "Boolean statements, such as above can be combined "
   ]
  },
  {
   "cell_type": "code",
   "execution_count": null,
   "metadata": {},
   "outputs": [],
   "source": [
    "homer_age = 34\n",
    "marge_age = 32\n",
    "bart_age  = 10\n",
    "lisa_age  = 8\n",
    "maggie_age = 1"
   ]
  },
  {
   "cell_type": "code",
   "execution_count": null,
   "metadata": {},
   "outputs": [],
   "source": [
    "# Marge's age is between Homer and Bart\n",
    "marge_age < homer_age and marge_age > bart_age "
   ]
  },
  {
   "cell_type": "code",
   "execution_count": null,
   "metadata": {},
   "outputs": [],
   "source": [
    "#Is there anyone who is younger than lisa?\n",
    "anyone_younger_than_lisa = lisa_age > homer_age or lisa_age > marge_age or lisa_age > bart_age or lisa_age > maggie_age\n",
    "anyone_younger_than_lisa"
   ]
  },
  {
   "cell_type": "code",
   "execution_count": null,
   "metadata": {},
   "outputs": [],
   "source": [
    "is_lisa_youngest = not anyone_younger_than_lisa\n",
    "is_lisa_youngest"
   ]
  },
  {
   "cell_type": "markdown",
   "metadata": {},
   "source": [
    "##### Operators associated with booleans, but used for all basic data types (including strings and numbers)"
   ]
  },
  {
   "cell_type": "markdown",
   "metadata": {},
   "source": [
    "| | |\n",
    "|---|---|\n",
    "|==| equals|\n",
    "|!=| not equal|\n",
    "|>| greater than|\n",
    "|<| less than|\n",
    "|>=| greater than or equal to |\n",
    "|<=| less than or equal to|\n"
   ]
  },
  {
   "cell_type": "markdown",
   "metadata": {},
   "source": [
    "## Variables\n",
    "\n",
    "Variables store values which your program needs to recall. You may also think of a variable as a name assigned to a value. You can type out 3.14, again and again in your program. Wouldn't it be more informative to use `pi` instead? \n",
    "\n",
    "You could go through a file (which may have thousands of lines) and assign a variable `current_line` to whichever line you are processing."
   ]
  },
  {
   "cell_type": "code",
   "execution_count": null,
   "metadata": {},
   "outputs": [],
   "source": [
    "x = 100"
   ]
  },
  {
   "cell_type": "code",
   "execution_count": null,
   "metadata": {},
   "outputs": [],
   "source": [
    "x"
   ]
  },
  {
   "cell_type": "code",
   "execution_count": null,
   "metadata": {},
   "outputs": [],
   "source": [
    "x + 2"
   ]
  },
  {
   "cell_type": "markdown",
   "metadata": {},
   "source": [
    "Once a variable is assigned a value, you should be able to substitute the variable any place that value is expected"
   ]
  },
  {
   "cell_type": "code",
   "execution_count": null,
   "metadata": {},
   "outputs": [],
   "source": [
    "type(x) # Is there a difference between type(x) and type(100) or dir(x) and dir(100)?"
   ]
  },
  {
   "cell_type": "markdown",
   "metadata": {},
   "source": [
    "Notice that different values can be assigned to variabls (variables can _vary_ )"
   ]
  },
  {
   "cell_type": "code",
   "execution_count": null,
   "metadata": {},
   "outputs": [],
   "source": [
    "x = 200"
   ]
  },
  {
   "cell_type": "code",
   "execution_count": null,
   "metadata": {},
   "outputs": [],
   "source": [
    "x"
   ]
  },
  {
   "cell_type": "markdown",
   "metadata": {},
   "source": [
    "You can create an expression where a variable is assigned to itself. This is used when you are aggregatign values in a loop."
   ]
  },
  {
   "cell_type": "code",
   "execution_count": null,
   "metadata": {},
   "outputs": [],
   "source": [
    "x = x + 1"
   ]
  },
  {
   "cell_type": "code",
   "execution_count": null,
   "metadata": {},
   "outputs": [],
   "source": [
    "x"
   ]
  },
  {
   "cell_type": "code",
   "execution_count": null,
   "metadata": {},
   "outputs": [],
   "source": [
    "x += 1"
   ]
  },
  {
   "cell_type": "code",
   "execution_count": null,
   "metadata": {},
   "outputs": [],
   "source": [
    "x"
   ]
  },
  {
   "cell_type": "code",
   "execution_count": null,
   "metadata": {},
   "outputs": [],
   "source": [
    "x++ #why doesn't this work?"
   ]
  },
  {
   "cell_type": "markdown",
   "metadata": {},
   "source": [
    "Python, unlike most languages, allows multiple assignment:"
   ]
  },
  {
   "cell_type": "code",
   "execution_count": null,
   "metadata": {},
   "outputs": [],
   "source": [
    "x, y = 1, 2"
   ]
  },
  {
   "cell_type": "code",
   "execution_count": null,
   "metadata": {},
   "outputs": [],
   "source": [
    "x"
   ]
  },
  {
   "cell_type": "code",
   "execution_count": null,
   "metadata": {},
   "outputs": [],
   "source": [
    "y"
   ]
  },
  {
   "cell_type": "markdown",
   "metadata": {},
   "source": [
    "**Exercise** The formula for maximum safe heart rate is `220 - age`. In the cell below, set the age variable and execute the cell to find out what your max heart rate"
   ]
  },
  {
   "cell_type": "code",
   "execution_count": null,
   "metadata": {},
   "outputs": [],
   "source": [
    "age = ???\n",
    "MHR = 220 - age\n",
    "MHR"
   ]
  },
  {
   "cell_type": "markdown",
   "metadata": {},
   "source": [
    "## Functions\n",
    "\n",
    "We will break up the study of functions into two subjects: how to use functions and how to create them. In this tutorial, let's see how to use functions.\n",
    "\n",
    "Functions are so fundamental to programming that we have already used them several times in this tutorial.\n",
    "\n",
    "When we find the absolute value of an integer `abs(-10)`, we are using the `abs` function. When we check the `type(\"hello\")` of a string or an integer, we are using the `type` function. When we want to find out which operations are valid for a data type, using `dir(100)`, we are using the `dir` function.\n",
    "\n",
    "Think of functions as a machine. We provide some input to the machine and it provides us with some output. We don't always concern ourselves with how this machine works. How does `abs` remove the negative sign? How does `dir` figure out which operations are valid. We can safely ignore these details, until we have an actual need to understand these functions."
   ]
  },
  {
   "cell_type": "code",
   "execution_count": null,
   "metadata": {},
   "outputs": [],
   "source": [
    "abs(-10)"
   ]
  },
  {
   "cell_type": "markdown",
   "metadata": {},
   "source": [
    "Functions are _called_ , _invoked_ or _executed_ in the following manner:\n",
    "\n",
    "`result = function_name(argument1, argument2, argument3)`\n",
    "\n",
    "A function has a name (we will study nameless functions later). We pass it some input, more often called _arguments_ or _parameters_.\n",
    "\n",
    "Once the function is done executing, it _returns_ a value.\n",
    "\n",
    "Recall from an earlier lecture that, in Jupyter notebook, executing `function_name?` gives you documentation for that function. In some cases, `function_name??` gives you the source code for the same function."
   ]
  },
  {
   "cell_type": "markdown",
   "metadata": {},
   "source": [
    "#### Importing functions\n",
    "\n",
    "Python has a number of built-in functions. We have already seen `type` and `dir`. \n",
    "\n",
    "This page describes the full list, along with their docs: https://docs.python.org/3/library/functions.html\n",
    "\n",
    "Notice that math functions such as `abs` (absolute value) and `round` (return rounded number) as available. Surely python has other functions, such as ceiling, floor, log, power, sin, cos and many other middle school level functions? Where are they?\n",
    "\n",
    "In order to keep functions organized, python puts them in relevant modules (also called libraries). For example, Python provides amodule called `math`, which contains _many_ useful math functions. In order to use those function, you have to tell your program that you would like to `import` a relevant module."
   ]
  },
  {
   "cell_type": "code",
   "execution_count": null,
   "metadata": {},
   "outputs": [],
   "source": [
    "sqrt(100) # What happened?"
   ]
  },
  {
   "cell_type": "code",
   "execution_count": null,
   "metadata": {},
   "outputs": [],
   "source": [
    "floor(3.14)"
   ]
  },
  {
   "cell_type": "code",
   "execution_count": null,
   "metadata": {},
   "outputs": [],
   "source": [
    "import math #import the math module, all function accessible by prefixing the module name"
   ]
  },
  {
   "cell_type": "code",
   "execution_count": null,
   "metadata": {},
   "outputs": [],
   "source": [
    "math.sqrt(100)"
   ]
  },
  {
   "cell_type": "code",
   "execution_count": null,
   "metadata": {},
   "outputs": [],
   "source": [
    "math.floor(3.14)"
   ]
  },
  {
   "cell_type": "code",
   "execution_count": null,
   "metadata": {},
   "outputs": [],
   "source": [
    "dir(math)"
   ]
  },
  {
   "cell_type": "code",
   "execution_count": null,
   "metadata": {},
   "outputs": [],
   "source": [
    "from math import * # import all functions from math and make them accessible without a prefix"
   ]
  },
  {
   "cell_type": "code",
   "execution_count": null,
   "metadata": {},
   "outputs": [],
   "source": [
    "floor(3.14)"
   ]
  },
  {
   "cell_type": "code",
   "execution_count": null,
   "metadata": {},
   "outputs": [],
   "source": [
    "import math as m # import the math module, but change the prefix name to m"
   ]
  },
  {
   "cell_type": "code",
   "execution_count": null,
   "metadata": {},
   "outputs": [],
   "source": [
    "m.floor(3.14)"
   ]
  },
  {
   "cell_type": "markdown",
   "metadata": {},
   "source": [
    "This link provides information about all built-in modules: https://docs.python.org/3/py-modindex.html"
   ]
  },
  {
   "cell_type": "markdown",
   "metadata": {
    "tags": []
   },
   "source": [
    "#### Methods\n",
    "\n",
    "Notice that so far in this calss, we have called functions two ways: by themselves and using the _dot_ notation. For example:"
   ]
  },
  {
   "cell_type": "code",
   "execution_count": null,
   "metadata": {},
   "outputs": [],
   "source": [
    "abs(-100)"
   ]
  },
  {
   "cell_type": "code",
   "execution_count": null,
   "metadata": {},
   "outputs": [],
   "source": [
    "\"hello, world\".split(\",\") # split(\"hello world\", \",\")"
   ]
  },
  {
   "cell_type": "markdown",
   "metadata": {},
   "source": [
    "Hopefully, you can tell from context that `\"hello world\".split(\" \")` calls the `split` function, which understands that it is operating on the string `\"hello world\"`. \n",
    "\n",
    "When a function is called via the dot notation, it is called a method, and it is operating on an object. We will introduce objects and object oriented programming a little further down the line. For now, understanding this usage from context should be enough."
   ]
  },
  {
   "cell_type": "markdown",
   "metadata": {},
   "source": [
    "#### Third-party modules"
   ]
  },
  {
   "cell_type": "markdown",
   "metadata": {},
   "source": [
    "When we discuss relative quality of a programming languages, their ecosystem of libraries is often extremely important. As powerful as programming languages are, if one had to rely only on built-in function, thousands of programmers would find themselves re-inventing the wheel countless times.\n",
    "\n",
    "Luckily, programmers, such as you and I, can create our own modules (aka libraries) and distribute them for others to use. Recall from an earlier lecture that getting information about Game Of Thrones characters took a bit of work. However, when we used the Pandas library, we were able to answer the same question in a single line of code! This is because there were others before us who were annoyed enough at having to write so much code that they decided to _abstract_ away the complexity for us.\n",
    "\n",
    "People have created libraries for practically every branch of mathematics, data science, physics, game development, communication. Whatever you can think of, someone has created a library for it.\n",
    "\n",
    "In a later lecture, we will learn more about this ecosystem."
   ]
  },
  {
   "cell_type": "markdown",
   "metadata": {},
   "source": [
    "#### Writing functions\n",
    "\n",
    "In this section, we see how to create our own functions. Since we have not yet learned many important Python constructs, let's write a silly function which checks if a number is greater than zero.\n",
    "\n",
    "Without functions, this is what the code looks like:"
   ]
  },
  {
   "cell_type": "code",
   "execution_count": null,
   "metadata": {},
   "outputs": [],
   "source": [
    "mynumber = 42\n",
    "is_greater_than_0 = mynumber > 0"
   ]
  },
  {
   "cell_type": "code",
   "execution_count": null,
   "metadata": {},
   "outputs": [],
   "source": [
    "is_greater_than_0"
   ]
  },
  {
   "cell_type": "markdown",
   "metadata": {},
   "source": [
    "Here is the same logic, wrapped in a function:"
   ]
  },
  {
   "cell_type": "code",
   "execution_count": null,
   "metadata": {},
   "outputs": [],
   "source": [
    "def is_greater_than_0(mynumber):\n",
    "    is_greater_than_0 = mynumber > 0\n",
    "    return is_greater_than_0"
   ]
  },
  {
   "cell_type": "code",
   "execution_count": null,
   "metadata": {},
   "outputs": [],
   "source": [
    "type(is_greater_than_0)"
   ]
  },
  {
   "cell_type": "code",
   "execution_count": null,
   "metadata": {},
   "outputs": [],
   "source": [
    "is_greater_than_0(34)"
   ]
  },
  {
   "cell_type": "code",
   "execution_count": null,
   "metadata": {},
   "outputs": [],
   "source": [
    "is_greater_than_0(54)"
   ]
  },
  {
   "cell_type": "code",
   "execution_count": null,
   "metadata": {},
   "outputs": [],
   "source": [
    "is_greater_than_0(-3)"
   ]
  },
  {
   "cell_type": "markdown",
   "metadata": {},
   "source": [
    "**Example** Write a function which adds thee numbers together"
   ]
  },
  {
   "cell_type": "code",
   "execution_count": null,
   "metadata": {},
   "outputs": [],
   "source": [
    "def addd(a, b, c):\n",
    "    return a + b + c"
   ]
  },
  {
   "cell_type": "code",
   "execution_count": null,
   "metadata": {},
   "outputs": [],
   "source": [
    "def addd(a, b, c):\n",
    "    rslt = a + b + c\n",
    "    return rslt"
   ]
  },
  {
   "cell_type": "code",
   "execution_count": null,
   "metadata": {},
   "outputs": [],
   "source": [
    "addd(1, 2, 3)"
   ]
  },
  {
   "cell_type": "code",
   "execution_count": null,
   "metadata": {},
   "outputs": [],
   "source": [
    "addd(1, 1, 1)"
   ]
  },
  {
   "cell_type": "markdown",
   "metadata": {},
   "source": [
    "**Exercise** Write a function which multiplies four numbers together. Call the function `mulllltiply`"
   ]
  },
  {
   "cell_type": "code",
   "execution_count": null,
   "metadata": {},
   "outputs": [],
   "source": [
    "%%postcell exercise_025_100_c\n",
    "\n",
    "### write your function here"
   ]
  },
  {
   "cell_type": "code",
   "execution_count": null,
   "metadata": {},
   "outputs": [],
   "source": [
    "### execute your function here"
   ]
  },
  {
   "cell_type": "markdown",
   "metadata": {},
   "source": [
    "## Container types (aka data structures): lists and dictionaries\n",
    "\n",
    "We often need to keep track of several items. In an earlier lecture, we saw that we needed to keep a list of names. In another scenario, we need to keep track of numbers per person. This section describes some basic container types, also known as data structures (in computer science literature)."
   ]
  },
  {
   "cell_type": "markdown",
   "metadata": {},
   "source": [
    "### Dictionaries\n",
    "Recall this program from an earlier lecture:"
   ]
  },
  {
   "cell_type": "code",
   "execution_count": null,
   "metadata": {},
   "outputs": [],
   "source": [
    "#Find all killers and their kill count\n",
    "\n",
    "killers = dict() # dictionary data type\n",
    "\n",
    "file = open(\"../../datasets/deaths-in-gameofthrones/game-of-thrones-deaths-data.csv\", \"r\", encoding='utf8')\n",
    "\n",
    "for line in file:\n",
    "  tokens = line.split(',')\n",
    "  if tokens[4] in killers: kill_count = killers[tokens[4]]\n",
    "  else: kill_count = 0\n",
    "  kill_count = kill_count + 1\n",
    "  killers[tokens[4]] = kill_count\n",
    "\n",
    "file.close()\n",
    "killers"
   ]
  },
  {
   "cell_type": "markdown",
   "metadata": {},
   "source": [
    "We have a variable for jon and for arya. But what if we wanted to calculate how many people _everyone_ killed (evidence for their trials)? We need a way to _dynamically_ create variables. These variables will need to be assigned values and those values will need to be updated.\n",
    "\n",
    "Almost all programming languages provdie a way to do this via _dictionaries_. Some languages call them maps (map a key to a value), some call them associative arrays. The keyword for such types in Python is `dict`."
   ]
  },
  {
   "cell_type": "markdown",
   "metadata": {},
   "source": [
    "You can create an empty dictionary via `my_dict = {}` or `my_dict = dict()`."
   ]
  },
  {
   "cell_type": "code",
   "execution_count": null,
   "metadata": {},
   "outputs": [],
   "source": [
    "simpson_ages = dict()"
   ]
  },
  {
   "cell_type": "code",
   "execution_count": null,
   "metadata": {},
   "outputs": [],
   "source": [
    "simpson_ages"
   ]
  },
  {
   "cell_type": "markdown",
   "metadata": {},
   "source": [
    "At this point, `simpson_ages` is a dictionary with nothing in it\n",
    "\n",
    "| Keys | Values |\n",
    "|------|--------|\n",
    "|      |        |\n"
   ]
  },
  {
   "cell_type": "code",
   "execution_count": null,
   "metadata": {},
   "outputs": [],
   "source": [
    "simpson_ages[\"Homer\"] = 36 #Set the value of key \"Homer\" to 36"
   ]
  },
  {
   "cell_type": "code",
   "execution_count": null,
   "metadata": {},
   "outputs": [],
   "source": [
    "simpson_ages"
   ]
  },
  {
   "cell_type": "markdown",
   "metadata": {},
   "source": [
    "The dictionary is no longer empty\n",
    "\n",
    "| Keys | Values |\n",
    "|------|--------|\n",
    "|  Homer    |  36      |"
   ]
  },
  {
   "cell_type": "code",
   "execution_count": null,
   "metadata": {},
   "outputs": [],
   "source": [
    "simpson_ages[\"Homer\"] # Get the value of key \"Homer\""
   ]
  },
  {
   "cell_type": "markdown",
   "metadata": {},
   "source": [
    "We haven't modified the dictionary\n",
    "\n",
    "| Keys | Values |\n",
    "|------|--------|\n",
    "|  Homer    |  36      |"
   ]
  },
  {
   "cell_type": "code",
   "execution_count": null,
   "metadata": {},
   "outputs": [],
   "source": [
    "simpson_ages[\"Marge\"] # What happened?"
   ]
  },
  {
   "cell_type": "code",
   "execution_count": null,
   "metadata": {},
   "outputs": [],
   "source": [
    "person_name = \"Marge\"\n",
    "person_age = 34\n",
    "\n",
    "simpson_ages[person_name] = person_age\n",
    "simpson_ages[person_name]"
   ]
  },
  {
   "cell_type": "code",
   "execution_count": null,
   "metadata": {},
   "outputs": [],
   "source": [
    "simpson_ages"
   ]
  },
  {
   "cell_type": "markdown",
   "metadata": {},
   "source": [
    "The dictionary now looks like this:\n",
    "\n",
    "| Keys | Values |\n",
    "|------|--------|\n",
    "|  Homer    |  36      |\n",
    "|  Marge    |  34      |"
   ]
  },
  {
   "cell_type": "markdown",
   "metadata": {},
   "source": [
    "Literal syntax"
   ]
  },
  {
   "cell_type": "code",
   "execution_count": null,
   "metadata": {},
   "outputs": [],
   "source": [
    "got_killers = {\"arya\": 1278, \"jon\": 112}"
   ]
  },
  {
   "cell_type": "code",
   "execution_count": null,
   "metadata": {},
   "outputs": [],
   "source": [
    "got_killers"
   ]
  },
  {
   "cell_type": "code",
   "execution_count": null,
   "metadata": {},
   "outputs": [],
   "source": [
    "got_killers[\"arya\"]"
   ]
  },
  {
   "cell_type": "markdown",
   "metadata": {},
   "source": [
    "You have seen how to create an empty dictionary, then add items.\n",
    "You can also create a dictionary with items already in it:"
   ]
  },
  {
   "cell_type": "code",
   "execution_count": null,
   "metadata": {},
   "outputs": [],
   "source": [
    "my_second_dictionary = {\"key1\": \"value1\", \"key2\": 2, \"key3\": \"value3\", 4:\"value4\", \"4\":\"value4str\"}"
   ]
  },
  {
   "cell_type": "code",
   "execution_count": null,
   "metadata": {},
   "outputs": [],
   "source": [
    "my_second_dictionary[\"key1\"]"
   ]
  },
  {
   "cell_type": "code",
   "execution_count": null,
   "metadata": {},
   "outputs": [],
   "source": [
    "my_second_dictionary[4]"
   ]
  },
  {
   "cell_type": "code",
   "execution_count": null,
   "metadata": {},
   "outputs": [],
   "source": [
    "my_second_dictionary[\"4\"]"
   ]
  },
  {
   "cell_type": "code",
   "execution_count": null,
   "metadata": {},
   "outputs": [],
   "source": [
    "my_second_dictionary[\"key2\"]"
   ]
  },
  {
   "cell_type": "code",
   "execution_count": null,
   "metadata": {},
   "outputs": [],
   "source": [
    "my_second_dictionary"
   ]
  },
  {
   "cell_type": "markdown",
   "metadata": {},
   "source": [
    "**Exercise** Add 2 years to Homer's age in `simpson_ages` (hint: get Homer's age from the dictionary, add 2 to it, add the new value back into the dictionary)\n",
    "**WARNING** Don't just set the value equal to 38, get Homer's current age, add 2, add it back to the dictionary"
   ]
  },
  {
   "cell_type": "code",
   "execution_count": null,
   "metadata": {},
   "outputs": [],
   "source": [
    "%%postcell exercise_025_100_d\n",
    "\n",
    "# Try it here"
   ]
  },
  {
   "cell_type": "markdown",
   "metadata": {},
   "source": [
    "**Exercise** Create a new dictionary, call it `last_names` and use this table to fill it:\n",
    "\n",
    "\n",
    "| Keys | Values |\n",
    "|------|--------|\n",
    "|  Homer    |  Simpson      |\n",
    "|  Marge    |  Simpson      |\n",
    "|  Ned    |  Flanders      |\n",
    "|  Barney    |  Gumble      |"
   ]
  },
  {
   "cell_type": "code",
   "execution_count": null,
   "metadata": {},
   "outputs": [],
   "source": [
    "%%postcell exercise_025_100_e\n",
    "\n",
    "# Write code here"
   ]
  },
  {
   "cell_type": "markdown",
   "metadata": {},
   "source": [
    "**Exercise** Say we want to create a combined database of The Simpson's and The Flinstones. What happens when you add \"Barney Rubble\" to this dictionary? \n",
    "\n",
    "(Hint: Insert \"Barney\" and \"Rubble\" into the dictionary you just created. Since there are two values associated with the first name \"Barney\", what does your dictionary show as Barney's last name? Gumble or Rubble?)\n"
   ]
  },
  {
   "cell_type": "code",
   "execution_count": null,
   "metadata": {},
   "outputs": [],
   "source": [
    "%%postcell exercise_025_100_f\n",
    "\n",
    "# Write code here"
   ]
  },
  {
   "cell_type": "markdown",
   "metadata": {},
   "source": [
    "**Exercise** What is the `type` of `last_names`?\n",
    "\n",
    "##### Dictionary methods"
   ]
  },
  {
   "cell_type": "code",
   "execution_count": null,
   "metadata": {},
   "outputs": [],
   "source": [
    "show_methods(dict())"
   ]
  },
  {
   "cell_type": "markdown",
   "metadata": {
    "tags": []
   },
   "source": [
    "### Lists\n",
    "\n",
    "Now that you understand dictionaries, what if you want a list of all the names in the dictionary `simpson_ages`? Notice that you can call simpson_ages.keys() to get this list."
   ]
  },
  {
   "cell_type": "code",
   "execution_count": null,
   "metadata": {},
   "outputs": [],
   "source": [
    "simpson_ages"
   ]
  },
  {
   "cell_type": "code",
   "execution_count": null,
   "metadata": {},
   "outputs": [],
   "source": [
    "simpson_ages.keys()"
   ]
  },
  {
   "cell_type": "code",
   "execution_count": null,
   "metadata": {},
   "outputs": [],
   "source": [
    "simpson_ages.values()"
   ]
  },
  {
   "cell_type": "markdown",
   "metadata": {},
   "source": [
    "List is an extremely important container type, so important that some languages are built around it.\n",
    "\n",
    "Recall that dictionaries are created either using the `dict()` keryword or curly braces `{}`. Similarly, lists can be created via `list()` or square brackets `[]`"
   ]
  },
  {
   "cell_type": "code",
   "execution_count": null,
   "metadata": {},
   "outputs": [],
   "source": [
    "programming_languages = list() # or programming_languages = []"
   ]
  },
  {
   "cell_type": "code",
   "execution_count": null,
   "metadata": {},
   "outputs": [],
   "source": [
    "programming_languages"
   ]
  },
  {
   "cell_type": "markdown",
   "metadata": {},
   "source": [
    "At this point, we have created an empty list:\n",
    "\n",
    "[  ]"
   ]
  },
  {
   "cell_type": "code",
   "execution_count": null,
   "metadata": {},
   "outputs": [],
   "source": [
    "programming_languages.append(\"python\")"
   ]
  },
  {
   "cell_type": "code",
   "execution_count": null,
   "metadata": {},
   "outputs": [],
   "source": [
    "programming_languages"
   ]
  },
  {
   "cell_type": "markdown",
   "metadata": {},
   "source": [
    "The list now has an element:\n",
    "\n",
    "[\"python\"]"
   ]
  },
  {
   "cell_type": "code",
   "execution_count": null,
   "metadata": {},
   "outputs": [],
   "source": [
    "programming_languages.append(\"R\")\n",
    "programming_languages.append(\"julia\")"
   ]
  },
  {
   "cell_type": "code",
   "execution_count": null,
   "metadata": {},
   "outputs": [],
   "source": [
    "programming_languages"
   ]
  },
  {
   "cell_type": "code",
   "execution_count": null,
   "metadata": {},
   "outputs": [],
   "source": [
    "programming_languages.append(\"R\")"
   ]
  },
  {
   "cell_type": "code",
   "execution_count": null,
   "metadata": {},
   "outputs": [],
   "source": [
    "programming_languages"
   ]
  },
  {
   "cell_type": "markdown",
   "metadata": {},
   "source": [
    "The list now has four items:\n",
    "\n",
    "[\"python\", \"R\", \"julia\", \"R\"]\n",
    "\n",
    "If we knew exactly what we wanted to put in this list, we could have created it like this:"
   ]
  },
  {
   "cell_type": "code",
   "execution_count": null,
   "metadata": {},
   "outputs": [],
   "source": [
    "programming_languages = [\"python\", \"R\", \"julia\", \"Java\", \"F#\", \"Haskell\", \"C#\"]\n",
    "programming_languages"
   ]
  },
  {
   "cell_type": "markdown",
   "metadata": {},
   "source": [
    "#### List indexing - one of the reasons Python is so popular"
   ]
  },
  {
   "cell_type": "markdown",
   "metadata": {},
   "source": [
    "In the next section, we will learn how to `loop` through each item in a list (or dictionary). If you want to access a single item at a known location, you can `index` into the list."
   ]
  },
  {
   "cell_type": "code",
   "execution_count": null,
   "metadata": {},
   "outputs": [],
   "source": [
    "programming_languages[1]"
   ]
  },
  {
   "cell_type": "markdown",
   "metadata": {},
   "source": [
    "In the previous statement, you asked for the item at location 1. Did you get what you expected? Try the next line:"
   ]
  },
  {
   "cell_type": "code",
   "execution_count": null,
   "metadata": {},
   "outputs": [],
   "source": [
    "programming_languages[0]"
   ]
  },
  {
   "cell_type": "markdown",
   "metadata": {},
   "source": [
    "**Remember** Python is a zero-index language! Many programming languages (and programmers), start counting at zero, instead of one! R is one of the exceptions, as it starts counting at 1 (like most humans).\n",
    "\n",
    "If you want to get a range of items from a list (say, the first 2), you can use the following syntax"
   ]
  },
  {
   "cell_type": "code",
   "execution_count": null,
   "metadata": {},
   "outputs": [],
   "source": [
    "programming_languages"
   ]
  },
  {
   "cell_type": "code",
   "execution_count": null,
   "metadata": {},
   "outputs": [],
   "source": [
    "programming_languages[0:2]"
   ]
  },
  {
   "cell_type": "code",
   "execution_count": null,
   "metadata": {},
   "outputs": [],
   "source": [
    "programming_languages[1:] #Start at one (second item), go until the end"
   ]
  },
  {
   "cell_type": "code",
   "execution_count": null,
   "metadata": {},
   "outputs": [],
   "source": [
    "programming_languages[:2] "
   ]
  },
  {
   "cell_type": "markdown",
   "metadata": {},
   "source": [
    "Here, instead of indexing with a single number, you are using `starting_point:ending_point` syntax, where `ending_point` is not inclusive (so the value at `ending_point` will NOT be included).\n",
    "\n",
    "Finally (for this quick tutorial), you can access items from the end of a list with negative numbers."
   ]
  },
  {
   "cell_type": "code",
   "execution_count": null,
   "metadata": {},
   "outputs": [],
   "source": [
    "programming_languages[-1] #This should get you the last item"
   ]
  },
  {
   "cell_type": "code",
   "execution_count": null,
   "metadata": {},
   "outputs": [],
   "source": [
    "programming_languages[-2] #This should get you second from the last item"
   ]
  },
  {
   "cell_type": "code",
   "execution_count": null,
   "metadata": {},
   "outputs": [],
   "source": [
    "programming_languages[-4:] #This should get you the last two items (start at -2, end at the end)"
   ]
  },
  {
   "cell_type": "code",
   "execution_count": null,
   "metadata": {},
   "outputs": [],
   "source": [
    "big_list = list(range(20))\n",
    "big_list"
   ]
  },
  {
   "cell_type": "markdown",
   "metadata": {},
   "source": [
    "Step size"
   ]
  },
  {
   "cell_type": "code",
   "execution_count": null,
   "metadata": {},
   "outputs": [],
   "source": [
    "big_list[5:15]"
   ]
  },
  {
   "cell_type": "code",
   "execution_count": null,
   "metadata": {},
   "outputs": [],
   "source": [
    "big_list[5:15:1]"
   ]
  },
  {
   "cell_type": "code",
   "execution_count": null,
   "metadata": {},
   "outputs": [],
   "source": [
    "big_list[5:15:2]"
   ]
  },
  {
   "cell_type": "markdown",
   "metadata": {},
   "source": [
    "**Exercise** What is the type of `programming_languages`?"
   ]
  },
  {
   "cell_type": "code",
   "execution_count": null,
   "metadata": {},
   "outputs": [],
   "source": [
    "type(programming_languages)"
   ]
  },
  {
   "cell_type": "markdown",
   "metadata": {},
   "source": [
    "**Exercise** Given the list `killed` in the Game of Thrones example, assuming the file is ordered chronologically, provide code for:"
   ]
  },
  {
   "cell_type": "code",
   "execution_count": null,
   "metadata": {},
   "outputs": [],
   "source": [
    "killed = list() # list data type\n",
    "\n",
    "file = open(\"../../datasets/deaths-in-gameofthrones/game-of-thrones-deaths-data.csv\", \"r\", encoding='utf8')\n",
    "\n",
    "for line in file:\n",
    "  tokens = line.split(',')\n",
    "  if tokens[4]==\"Jaime Lannister\":\n",
    "    name_of_killed = tokens[3]\n",
    "    killed.append(name_of_killed)\n",
    "\n",
    "file.close()\n",
    "print(killed)"
   ]
  },
  {
   "cell_type": "code",
   "execution_count": null,
   "metadata": {},
   "outputs": [],
   "source": [
    "%%postcell exercise_025_100_g\n",
    "\n",
    "# First person killed by Jaime\n",
    "print(killed[0])\n",
    "\n",
    "# Last person killed by Jaime\n",
    "# your code here\n",
    "\n",
    "# First three people killed by Jaime\n",
    "\n",
    "# Last three people killed by Jaime\n",
    "\n",
    "# Names of the second, third and fourth victim"
   ]
  },
  {
   "cell_type": "markdown",
   "metadata": {},
   "source": [
    "#### Strings are also lists (of sorts)!"
   ]
  },
  {
   "cell_type": "markdown",
   "metadata": {},
   "source": [
    "Did you notice that we used a type of list at the beginning of the lecture: strings!\n",
    "While python strings are not identical to lists, their _interface_ (operations and function which can be used) is very similar! Everything you learn about accessing items from a list will apply to strings (but strings can't be modified)"
   ]
  },
  {
   "cell_type": "code",
   "execution_count": null,
   "metadata": {},
   "outputs": [],
   "source": [
    "homer = \"Homer Simpson\""
   ]
  },
  {
   "cell_type": "code",
   "execution_count": null,
   "metadata": {},
   "outputs": [],
   "source": [
    "homer"
   ]
  },
  {
   "cell_type": "code",
   "execution_count": null,
   "metadata": {},
   "outputs": [],
   "source": [
    "homer[0]"
   ]
  },
  {
   "cell_type": "code",
   "execution_count": null,
   "metadata": {},
   "outputs": [],
   "source": [
    "homer[0:7]"
   ]
  },
  {
   "cell_type": "code",
   "execution_count": null,
   "metadata": {},
   "outputs": [],
   "source": [
    "homer[-3:]"
   ]
  },
  {
   "cell_type": "markdown",
   "metadata": {},
   "source": [
    "Many functions return lists. One you have already seen is the `split` function."
   ]
  },
  {
   "cell_type": "code",
   "execution_count": null,
   "metadata": {},
   "outputs": [],
   "source": [
    "\"All models are wrong, some are useful\".split(\" \")"
   ]
  },
  {
   "cell_type": "code",
   "execution_count": null,
   "metadata": {},
   "outputs": [],
   "source": [
    "\"All models are wrong, some are useful\".split(\" \")[2]"
   ]
  },
  {
   "cell_type": "markdown",
   "metadata": {},
   "source": [
    "Recall this example from an earlier lecture, which recorded the names of people who were killed by Jaime. Notice where and how `list` is being used."
   ]
  },
  {
   "cell_type": "markdown",
   "metadata": {},
   "source": [
    "**Extended exercise** What operations can be done on lists, such as `programming_languages`?"
   ]
  },
  {
   "cell_type": "code",
   "execution_count": null,
   "metadata": {},
   "outputs": [],
   "source": [
    "dir([1,2])"
   ]
  },
  {
   "cell_type": "markdown",
   "metadata": {},
   "source": [
    "Strings can be converted to a list using the `list` function:"
   ]
  },
  {
   "cell_type": "code",
   "execution_count": null,
   "metadata": {},
   "outputs": [],
   "source": [
    "list(\"Homer\")"
   ]
  },
  {
   "cell_type": "markdown",
   "metadata": {},
   "source": [
    "Lists can be converted to a single string using the `join` method:"
   ]
  },
  {
   "cell_type": "code",
   "execution_count": null,
   "metadata": {},
   "outputs": [],
   "source": [
    "\", \".join([\"homer\", \"marge\", \"bart\", \"lisa\", \"maggie\"])"
   ]
  },
  {
   "cell_type": "code",
   "execution_count": null,
   "metadata": {},
   "outputs": [],
   "source": [
    "\"; \".join([\"homer\", \"marge\", \"bart\", \"lisa\", \"maggie\"])"
   ]
  },
  {
   "cell_type": "markdown",
   "metadata": {},
   "source": [
    "**Exercise** Which function finds the length of `killed`? (hint: it is a built-in function, use google to help you find this)"
   ]
  },
  {
   "cell_type": "code",
   "execution_count": null,
   "metadata": {},
   "outputs": [],
   "source": [
    "%%postcell exercise_025_100_h\n",
    "\n",
    "#Type code here"
   ]
  },
  {
   "cell_type": "markdown",
   "metadata": {},
   "source": [
    "**Exercise** Create a list and populate it with a few names. Can you add the same name multiple times?"
   ]
  },
  {
   "cell_type": "code",
   "execution_count": null,
   "metadata": {},
   "outputs": [],
   "source": [
    "%%postcell exercise_025_100_i\n",
    "\n",
    "#Type code here"
   ]
  },
  {
   "cell_type": "markdown",
   "metadata": {},
   "source": [
    "##### List methods"
   ]
  },
  {
   "cell_type": "code",
   "execution_count": null,
   "metadata": {},
   "outputs": [],
   "source": [
    "show_methods(list())"
   ]
  },
  {
   "cell_type": "markdown",
   "metadata": {},
   "source": [
    "### Tuples\n",
    "\n",
    "Tuples are very similar to lists. However, unlike lists, tuples can not be modified. Once a tuple is created, its length and member stay the same.\n",
    "\n",
    "You will notice that tuples are defined with round parentheses `()` whereas lists are defined using square parentheses `[]`"
   ]
  },
  {
   "cell_type": "code",
   "execution_count": null,
   "metadata": {},
   "outputs": [],
   "source": [
    "l = ['homer', 'marge']\n",
    "l"
   ]
  },
  {
   "cell_type": "code",
   "execution_count": null,
   "metadata": {},
   "outputs": [],
   "source": [
    "t = ('homer', 'marge')\n",
    "t"
   ]
  },
  {
   "cell_type": "code",
   "execution_count": null,
   "metadata": {},
   "outputs": [],
   "source": [
    "t2 = 'homer', 'marge'\n",
    "t2"
   ]
  },
  {
   "cell_type": "code",
   "execution_count": null,
   "metadata": {},
   "outputs": [],
   "source": [
    "print(type(l))\n",
    "print(type(t))\n",
    "print(type(t2))"
   ]
  },
  {
   "cell_type": "code",
   "execution_count": null,
   "metadata": {},
   "outputs": [],
   "source": [
    "l[0]"
   ]
  },
  {
   "cell_type": "code",
   "execution_count": null,
   "metadata": {},
   "outputs": [],
   "source": [
    "t[0]"
   ]
  },
  {
   "cell_type": "code",
   "execution_count": null,
   "metadata": {},
   "outputs": [],
   "source": [
    "l[0] = 'HOMER'\n",
    "l"
   ]
  },
  {
   "cell_type": "code",
   "execution_count": null,
   "metadata": {},
   "outputs": [],
   "source": [
    "t[0] = 'HOMER'\n",
    "t"
   ]
  },
  {
   "cell_type": "markdown",
   "metadata": {},
   "source": [
    "We will look at tuples in greater detail in a later notebook. For now, just be aware that when you see output like `(1,2)`, you are still looking at a collection of items. "
   ]
  },
  {
   "cell_type": "code",
   "execution_count": null,
   "metadata": {},
   "outputs": [],
   "source": [
    "1,2"
   ]
  },
  {
   "cell_type": "markdown",
   "metadata": {},
   "source": [
    "Tuples are sometimes used to return multiple values from a function"
   ]
  },
  {
   "cell_type": "code",
   "execution_count": null,
   "metadata": {},
   "outputs": [],
   "source": [
    "def f():\n",
    "    return 1,2"
   ]
  },
  {
   "cell_type": "code",
   "execution_count": null,
   "metadata": {},
   "outputs": [],
   "source": [
    "f()"
   ]
  },
  {
   "cell_type": "markdown",
   "metadata": {},
   "source": [
    "Python allows multiple assignment, necessary for tuples"
   ]
  },
  {
   "cell_type": "code",
   "execution_count": null,
   "metadata": {},
   "outputs": [],
   "source": [
    "rslt = f()"
   ]
  },
  {
   "cell_type": "code",
   "execution_count": null,
   "metadata": {},
   "outputs": [],
   "source": [
    "rslt[0]"
   ]
  },
  {
   "cell_type": "code",
   "execution_count": null,
   "metadata": {},
   "outputs": [],
   "source": [
    "rslt[1]"
   ]
  },
  {
   "cell_type": "code",
   "execution_count": null,
   "metadata": {},
   "outputs": [],
   "source": [
    "x, y = f()"
   ]
  },
  {
   "cell_type": "code",
   "execution_count": null,
   "metadata": {},
   "outputs": [],
   "source": [
    "x"
   ]
  },
  {
   "cell_type": "code",
   "execution_count": null,
   "metadata": {},
   "outputs": [],
   "source": [
    "y"
   ]
  },
  {
   "cell_type": "markdown",
   "metadata": {},
   "source": [
    "##### Methods on tuples"
   ]
  },
  {
   "cell_type": "code",
   "execution_count": null,
   "metadata": {},
   "outputs": [],
   "source": [
    "show_methods((1,2))"
   ]
  },
  {
   "cell_type": "markdown",
   "metadata": {},
   "source": [
    "### Sets\n",
    "Sets are very similar to Lists. Like mathematical sets, and unlike lists, an item can only exist once in a set.\n",
    "\n",
    "Sets can be created either using the `{}` notation or the `set()` notation. If you already know the elements of a set, you can create it as such: `set([1,1,2,3,3,3,4,5])`"
   ]
  },
  {
   "cell_type": "code",
   "execution_count": null,
   "metadata": {},
   "outputs": [],
   "source": [
    "[1,1,2,3,3,3,4,5, 1]"
   ]
  },
  {
   "cell_type": "code",
   "execution_count": null,
   "metadata": {},
   "outputs": [],
   "source": [
    "set([1,1,2,3,3,3,4,5])"
   ]
  },
  {
   "cell_type": "code",
   "execution_count": null,
   "metadata": {},
   "outputs": [],
   "source": [
    "moes_customers = set()\n",
    "moes_customers"
   ]
  },
  {
   "cell_type": "code",
   "execution_count": null,
   "metadata": {},
   "outputs": [],
   "source": [
    "moes_customers.add('Homer')\n",
    "moes_customers.add('Barney')\n",
    "moes_customers"
   ]
  },
  {
   "cell_type": "code",
   "execution_count": null,
   "metadata": {},
   "outputs": [],
   "source": [
    "moes_customers.add('Homer')\n",
    "moes_customers"
   ]
  },
  {
   "cell_type": "markdown",
   "metadata": {},
   "source": [
    "**Example** Homer Simpson can appear in multiple police records for disorderly conduct. However, when asked for the names of Moe's patrons, it makes no sense for Homer to be included more than once. "
   ]
  },
  {
   "cell_type": "code",
   "execution_count": null,
   "metadata": {},
   "outputs": [],
   "source": [
    "#Trouble maker list, extracted from Springfield police records, in chronological order\n",
    "TODO: fix variable name\n",
    "ignoble_citizens = ['Homer', 'Barney', 'Moe', 'Dr. Nick', 'Homer', 'Homer']\n",
    "ignoble_citizens"
   ]
  },
  {
   "cell_type": "code",
   "execution_count": null,
   "metadata": {},
   "outputs": [],
   "source": [
    "simplified_list = set(ignoble_citizens)\n",
    "simplified_list"
   ]
  },
  {
   "cell_type": "code",
   "execution_count": null,
   "metadata": {},
   "outputs": [],
   "source": [
    "moes_customers = {'Homer', 'Barney', 'Carl', 'Lenny'} # set(['Homer', 'Barney', 'Carl', 'Lenny'])\n",
    "moes_customers"
   ]
  },
  {
   "cell_type": "markdown",
   "metadata": {},
   "source": [
    "#### Set operations: `union`, `intersection` and friends"
   ]
  },
  {
   "cell_type": "code",
   "execution_count": null,
   "metadata": {},
   "outputs": [],
   "source": [
    "marketing_campaign_customers = set(['homer', 'apu', 'lisa', 'monty', 'maggie'])\n",
    "adult_customers = set(['abe', 'seymore', 'monty', 'homer', 'apu'])\n",
    "senior_customers = set(['abe', 'monty'])"
   ]
  },
  {
   "attachments": {
    "8f0ebb7e-d7c9-4109-8a18-bb052cc8f006.png": {
     "image/png": "[encoded data removed]"
    }
   },
   "cell_type": "markdown",
   "metadata": {},
   "source": [
    "![image.png](attachment:8f0ebb7e-d7c9-4109-8a18-bb052cc8f006.png)"
   ]
  },
  {
   "cell_type": "code",
   "execution_count": null,
   "metadata": {},
   "outputs": [],
   "source": [
    "marketing_campaign_customers"
   ]
  },
  {
   "cell_type": "code",
   "execution_count": null,
   "metadata": {},
   "outputs": [],
   "source": [
    "adult_customers"
   ]
  },
  {
   "cell_type": "markdown",
   "metadata": {},
   "source": [
    "* https://www.classtools.net/Venn/"
   ]
  },
  {
   "cell_type": "markdown",
   "metadata": {},
   "source": [
    "Which customers appear in either set (`union`)"
   ]
  },
  {
   "cell_type": "code",
   "execution_count": null,
   "metadata": {},
   "outputs": [],
   "source": [
    "marketing_campaign_customers.union(adult_customers)"
   ]
  },
  {
   "cell_type": "code",
   "execution_count": null,
   "metadata": {},
   "outputs": [],
   "source": [
    "marketing_campaign_customers | adult_customers "
   ]
  },
  {
   "cell_type": "markdown",
   "metadata": {},
   "source": [
    "Which customers show up in both sets (`intersection`)"
   ]
  },
  {
   "cell_type": "code",
   "execution_count": null,
   "metadata": {},
   "outputs": [],
   "source": [
    "marketing_campaign_customers.intersection(adult_customers)"
   ]
  },
  {
   "cell_type": "code",
   "execution_count": null,
   "metadata": {},
   "outputs": [],
   "source": [
    "marketing_campaign_customers & adult_customers"
   ]
  },
  {
   "cell_type": "markdown",
   "metadata": {},
   "source": [
    "Which customers are in one set but not the other? (`difference`)"
   ]
  },
  {
   "cell_type": "code",
   "execution_count": null,
   "metadata": {},
   "outputs": [],
   "source": [
    "marketing_campaign_customers.difference(adult_customers)"
   ]
  },
  {
   "cell_type": "code",
   "execution_count": null,
   "metadata": {},
   "outputs": [],
   "source": [
    "marketing_campaign_customers - adult_customers"
   ]
  },
  {
   "cell_type": "code",
   "execution_count": null,
   "metadata": {},
   "outputs": [],
   "source": [
    "adult_customers.difference(marketing_campaign_customers)"
   ]
  },
  {
   "cell_type": "code",
   "execution_count": null,
   "metadata": {},
   "outputs": [],
   "source": [
    "adult_customers - marketing_campaign_customers"
   ]
  },
  {
   "cell_type": "markdown",
   "metadata": {},
   "source": [
    "TODO:\n",
    "Do the sets have _any_ members in common? (`isdisjoint`)"
   ]
  },
  {
   "cell_type": "code",
   "execution_count": null,
   "metadata": {},
   "outputs": [],
   "source": [
    "marketing_campaign_customers.isdisjoint(adult_customers)"
   ]
  },
  {
   "cell_type": "markdown",
   "metadata": {},
   "source": [
    "Are 'senior' customers also considered 'older' customers? (`issubset`, `issuperset`, proper sub/super sets)"
   ]
  },
  {
   "cell_type": "code",
   "execution_count": null,
   "metadata": {},
   "outputs": [],
   "source": [
    "senior_customers.issubset(adult_customers)"
   ]
  },
  {
   "cell_type": "code",
   "execution_count": null,
   "metadata": {},
   "outputs": [],
   "source": [
    "senior_customers <= adult_customers"
   ]
  },
  {
   "cell_type": "markdown",
   "metadata": {},
   "source": [
    "##### Methods on sets"
   ]
  },
  {
   "cell_type": "code",
   "execution_count": null,
   "metadata": {},
   "outputs": [],
   "source": [
    "show_methods(set())"
   ]
  },
  {
   "cell_type": "code",
   "execution_count": null,
   "metadata": {},
   "outputs": [],
   "source": []
  },
  {
   "cell_type": "markdown",
   "metadata": {},
   "source": [
    "### Common operations"
   ]
  },
  {
   "cell_type": "markdown",
   "metadata": {},
   "source": [
    "Python (as well as most other programming languages) provide functions which work across data structures. Programmers can accomplish similar tasks using the same syntax."
   ]
  },
  {
   "cell_type": "code",
   "execution_count": null,
   "metadata": {},
   "outputs": [],
   "source": [
    "list1 = [1,2,3,4,5]\n",
    "dict1 = {1:\"one\", 2:\"two\", 3:\"three\", 4:\"four\", 5:\"five\"}\n",
    "tup1  = (1, 2, 3, 4, 5)\n",
    "set1  = set(list1)\n",
    "str1  = \"hello\""
   ]
  },
  {
   "cell_type": "code",
   "execution_count": null,
   "metadata": {},
   "outputs": [],
   "source": [
    "list2 = []\n",
    "dict2 = {}\n",
    "tup2  = ()\n",
    "set2  = set()\n",
    "str2  = \"\""
   ]
  },
  {
   "cell_type": "markdown",
   "metadata": {},
   "source": [
    "Size of data structures"
   ]
  },
  {
   "cell_type": "code",
   "execution_count": null,
   "metadata": {},
   "outputs": [],
   "source": [
    "len(list1), len(dict1), len(tup1), len(set1), len(str1)"
   ]
  },
  {
   "cell_type": "markdown",
   "metadata": {},
   "source": [
    "Get value at an index or a keyword"
   ]
  },
  {
   "cell_type": "code",
   "execution_count": null,
   "metadata": {},
   "outputs": [],
   "source": [
    "list1[2], dict1[2], tup1[2], str1[2] #, set1[2]"
   ]
  },
  {
   "cell_type": "markdown",
   "metadata": {},
   "source": [
    "Check if an item exists"
   ]
  },
  {
   "cell_type": "code",
   "execution_count": null,
   "metadata": {},
   "outputs": [],
   "source": [
    "2 in list1"
   ]
  },
  {
   "cell_type": "code",
   "execution_count": null,
   "metadata": {},
   "outputs": [],
   "source": [
    "2 in dict1"
   ]
  },
  {
   "cell_type": "code",
   "execution_count": null,
   "metadata": {},
   "outputs": [],
   "source": [
    "\"four\" in dict1"
   ]
  },
  {
   "cell_type": "code",
   "execution_count": null,
   "metadata": {},
   "outputs": [],
   "source": [
    "2 in tup1"
   ]
  },
  {
   "cell_type": "code",
   "execution_count": null,
   "metadata": {},
   "outputs": [],
   "source": [
    "2 in set1"
   ]
  },
  {
   "cell_type": "code",
   "execution_count": null,
   "metadata": {},
   "outputs": [],
   "source": [
    "'l' in str1"
   ]
  },
  {
   "cell_type": "markdown",
   "metadata": {},
   "source": [
    "Remove an item"
   ]
  },
  {
   "cell_type": "code",
   "execution_count": null,
   "metadata": {},
   "outputs": [],
   "source": [
    "list1"
   ]
  },
  {
   "cell_type": "code",
   "execution_count": null,
   "metadata": {},
   "outputs": [],
   "source": [
    "del list1[2]"
   ]
  },
  {
   "cell_type": "code",
   "execution_count": null,
   "metadata": {},
   "outputs": [],
   "source": [
    "list1"
   ]
  },
  {
   "cell_type": "code",
   "execution_count": null,
   "metadata": {},
   "outputs": [],
   "source": [
    "dict1"
   ]
  },
  {
   "cell_type": "code",
   "execution_count": null,
   "metadata": {},
   "outputs": [],
   "source": [
    "del dict1[2]"
   ]
  },
  {
   "cell_type": "code",
   "execution_count": null,
   "metadata": {},
   "outputs": [],
   "source": [
    "dict1"
   ]
  },
  {
   "cell_type": "markdown",
   "metadata": {},
   "source": [
    "Strings and tupples are _immutable_, hence, can't be changed."
   ]
  },
  {
   "cell_type": "code",
   "execution_count": null,
   "metadata": {},
   "outputs": [],
   "source": [
    "# del str1[2]\n",
    "# del tup1[2]"
   ]
  },
  {
   "cell_type": "markdown",
   "metadata": {},
   "source": [
    "Set elements can't be access via an index location (since they have no order)"
   ]
  },
  {
   "cell_type": "code",
   "execution_count": null,
   "metadata": {},
   "outputs": [],
   "source": [
    "set1"
   ]
  },
  {
   "cell_type": "code",
   "execution_count": null,
   "metadata": {},
   "outputs": [],
   "source": [
    "# del set1[2]\n",
    "set1.remove(2)"
   ]
  },
  {
   "cell_type": "code",
   "execution_count": null,
   "metadata": {},
   "outputs": [],
   "source": [
    "set1"
   ]
  },
  {
   "cell_type": "markdown",
   "metadata": {},
   "source": [
    "Modify an item"
   ]
  },
  {
   "cell_type": "code",
   "execution_count": null,
   "metadata": {},
   "outputs": [],
   "source": [
    "list1"
   ]
  },
  {
   "cell_type": "code",
   "execution_count": null,
   "metadata": {},
   "outputs": [],
   "source": [
    "list1[1] = 45"
   ]
  },
  {
   "cell_type": "code",
   "execution_count": null,
   "metadata": {},
   "outputs": [],
   "source": [
    "list1"
   ]
  },
  {
   "cell_type": "code",
   "execution_count": null,
   "metadata": {},
   "outputs": [],
   "source": [
    "dict1"
   ]
  },
  {
   "cell_type": "code",
   "execution_count": null,
   "metadata": {},
   "outputs": [],
   "source": [
    "dict1[1] = 45"
   ]
  },
  {
   "cell_type": "code",
   "execution_count": null,
   "metadata": {},
   "outputs": [],
   "source": [
    "dict1"
   ]
  },
  {
   "cell_type": "markdown",
   "metadata": {},
   "source": [
    "As seen earlier, strings and tuples are immutable and sets don't have index locations"
   ]
  },
  {
   "cell_type": "markdown",
   "metadata": {},
   "source": [
    "See the **truthiness** section below for more examples"
   ]
  },
  {
   "cell_type": "markdown",
   "metadata": {},
   "source": [
    "## Control flow: if/else and loops\n",
    "\n",
    "Programs which never make any decisions and never execute a line of code more than once are not very interesting. It can be argued that what sets a programming language apart from a calculator is its ability to jump over some lines (using if/else statements) or operate on some value a number of times (loops)"
   ]
  },
  {
   "cell_type": "markdown",
   "metadata": {},
   "source": [
    "### Loops\n",
    "\n",
    "Once you have seen lists, loops are an obvious next step. Given a list of things, you need to _go through them, one by one and operate on each item_. In Python, iterating through a list of items occurs via `for` loops.\n",
    "\n",
    "Another usecase of loops is to continue doing something until a condition is met. For example, _while_ user input is less than some threshold, continue the program. In Python, `while` loops are best used for such scenarios. \n",
    "\n",
    "As novice data scientists, we mostly deal with for loops. We will see while loops in a more detail lecture in the future.\n",
    "\n",
    "For example, given a list of items, how would you capitalize each entry?"
   ]
  },
  {
   "cell_type": "code",
   "execution_count": null,
   "metadata": {},
   "outputs": [],
   "source": [
    "for name in ['homer', 'marge', 'bart', 'lisa', 'maggie']:\n",
    "    print(name.capitalize())\n",
    "\n",
    "print(\"Done with the loop\")"
   ]
  },
  {
   "cell_type": "markdown",
   "metadata": {},
   "source": [
    "What you just saw is a _for loop_. Since the list above has 5 entries, the two lines above execute 5 times.\n",
    "\n",
    "The syntax looks like this:\n",
    "\n",
    "```python\n",
    "for VARIABLE in LIST:\n",
    "   EXECUTE_SOME_STATEMENT\n",
    "   EXECUTE_SOME_OTHER_STATEMENT\n",
    "   ...\n",
    "```\n",
    "\n",
    "Some important things to notice:\n",
    "* The first line of the loop ands in the ':' character\n",
    "* All _indented_ lines immediately below the loop are considered part of the loop.\n",
    "* The value of _VARIABLE_ changes with each _iteration_ of the loop"
   ]
  },
  {
   "cell_type": "markdown",
   "metadata": {},
   "source": [
    "![](images/loop_diagram.png)"
   ]
  },
  {
   "cell_type": "markdown",
   "metadata": {},
   "source": [
    "**Exercise** Take a look at programs from notebook _first_programs_ and find all the loops\n",
    "\n",
    "**Exercise** Describe the output of the code below before executing it (in a later lecture, we will see cleaner method of combining text and variables):"
   ]
  },
  {
   "cell_type": "code",
   "execution_count": null,
   "metadata": {},
   "outputs": [],
   "source": [
    "\"this sentence has a few words in it\""
   ]
  },
  {
   "cell_type": "code",
   "execution_count": null,
   "metadata": {},
   "outputs": [],
   "source": [
    "\"this sentence has a few words in it\".split(\" \")"
   ]
  },
  {
   "cell_type": "code",
   "execution_count": null,
   "metadata": {
    "tags": []
   },
   "outputs": [],
   "source": [
    "for word in \"this sentence has a few words in it\".split(\" \"):\n",
    "    print(\"Length of the word\", word,\"is\", len(word))"
   ]
  },
  {
   "cell_type": "markdown",
   "metadata": {},
   "source": [
    "**Nested loops**"
   ]
  },
  {
   "cell_type": "code",
   "execution_count": null,
   "metadata": {},
   "outputs": [],
   "source": [
    "for i in [\"Hello\", \"Bonjour\"]:\n",
    "    print(i,\"Homer\")"
   ]
  },
  {
   "cell_type": "code",
   "execution_count": null,
   "metadata": {},
   "outputs": [],
   "source": [
    "for i in [\"Hello\", \"Bonjour\"]:\n",
    "    for j in [\"Homer\", \"Marge\"]:\n",
    "        print(i, j)"
   ]
  },
  {
   "cell_type": "markdown",
   "metadata": {},
   "source": [
    "**Example** Create all combinations of clothes in your closet"
   ]
  },
  {
   "cell_type": "code",
   "execution_count": null,
   "metadata": {},
   "outputs": [],
   "source": [
    "for c in ['red', 'blue', 'purple']:\n",
    "    for d in ['pants', 'shirt']:\n",
    "        print(\"You can wear\", c, d)"
   ]
  },
  {
   "cell_type": "markdown",
   "metadata": {},
   "source": [
    "#### `range`\n",
    "`range` provides a way to iterate a specific number or times"
   ]
  },
  {
   "cell_type": "code",
   "execution_count": null,
   "metadata": {},
   "outputs": [],
   "source": [
    "for i in range(4):\n",
    "    print(\"hello\")"
   ]
  },
  {
   "cell_type": "code",
   "execution_count": null,
   "metadata": {},
   "outputs": [],
   "source": [
    "range(20)"
   ]
  },
  {
   "cell_type": "code",
   "execution_count": null,
   "metadata": {},
   "outputs": [],
   "source": [
    "range(0, 20)"
   ]
  },
  {
   "cell_type": "code",
   "execution_count": null,
   "metadata": {},
   "outputs": [],
   "source": [
    "list(range(20))"
   ]
  },
  {
   "cell_type": "code",
   "execution_count": null,
   "metadata": {},
   "outputs": [],
   "source": [
    "list(range(5,20))"
   ]
  },
  {
   "cell_type": "code",
   "execution_count": null,
   "metadata": {},
   "outputs": [],
   "source": [
    "list(range(5,20,2))"
   ]
  },
  {
   "cell_type": "markdown",
   "metadata": {},
   "source": [
    "#### `enumerate`\n",
    "`enumerate` provides a way to iterate over a list, _as well as its index_"
   ]
  },
  {
   "cell_type": "code",
   "execution_count": null,
   "metadata": {},
   "outputs": [],
   "source": [
    "for  value in ['homer', 'marge', 'bart', 'lisa', 'maggie']:\n",
    "    print( value)"
   ]
  },
  {
   "cell_type": "code",
   "execution_count": null,
   "metadata": {},
   "outputs": [],
   "source": [
    "for index, value in enumerate(['homer', 'marge', 'bart', 'lisa', 'maggie']):\n",
    "    print(index, value)"
   ]
  },
  {
   "cell_type": "markdown",
   "metadata": {},
   "source": [
    "#### `zip` provides a way to combine two or more lists"
   ]
  },
  {
   "cell_type": "code",
   "execution_count": null,
   "metadata": {},
   "outputs": [],
   "source": [
    "names = ['homer', 'marge', 'bart', 'lisa', 'maggie']\n",
    "ages  = [34, 32, 10, 8, 1]\n"
   ]
  },
  {
   "cell_type": "code",
   "execution_count": null,
   "metadata": {},
   "outputs": [],
   "source": [
    "for i, n in enumerate(names):\n",
    "    print(n, ages[i])"
   ]
  },
  {
   "cell_type": "code",
   "execution_count": null,
   "metadata": {},
   "outputs": [],
   "source": [
    "list(zip(names, ages))"
   ]
  },
  {
   "cell_type": "code",
   "execution_count": null,
   "metadata": {},
   "outputs": [],
   "source": [
    "for name, age in zip(names, ages):\n",
    "    print(name, age)"
   ]
  },
  {
   "cell_type": "code",
   "execution_count": null,
   "metadata": {},
   "outputs": [],
   "source": [
    "dict(zip(names, ages))"
   ]
  },
  {
   "cell_type": "code",
   "execution_count": null,
   "metadata": {},
   "outputs": [],
   "source": [
    "list(zip(names, names[1:]))"
   ]
  },
  {
   "cell_type": "markdown",
   "metadata": {},
   "source": [
    "**Exercise** Given the list below, square every number. In a loop, print the number and the square."
   ]
  },
  {
   "cell_type": "code",
   "execution_count": null,
   "metadata": {},
   "outputs": [],
   "source": [
    "%%postcell exercise_025_100_j\n",
    "\n",
    "numbers = [23, 43, 67, 1, 7, 9, 3]\n",
    "\n",
    "#Type loop code here"
   ]
  },
  {
   "cell_type": "markdown",
   "metadata": {},
   "source": [
    "#### `break`\n",
    "\n",
    "In the examples above, you processed each item in the list. However, there are times when you want to exit your loops early. For example, if you were confirming the existance of an element in a list, once you found it, there is no reason to continue!\n",
    "\n",
    "**Example** Is Lisa in the list below?"
   ]
  },
  {
   "cell_type": "code",
   "execution_count": null,
   "metadata": {},
   "outputs": [],
   "source": [
    "person_to_find = \"ned\"\n",
    "some_list = ['homer', 'marge', 'bart', 'lisa', 'maggie']\n",
    "\n",
    "found_her = False\n",
    "for name in some_list:\n",
    "    if name == person_to_find: \n",
    "        found_her = True\n",
    "        break\n",
    "\n",
    "print(person_to_find, \"was found:\", found_her)"
   ]
  },
  {
   "cell_type": "markdown",
   "metadata": {},
   "source": [
    "Note that there are better ways of finding elements in a list, such as the `index` method.\n",
    "\n",
    "If you are using multiple loops, the `break` statement only exists the loop which contains the `break` statement"
   ]
  },
  {
   "cell_type": "code",
   "execution_count": null,
   "metadata": {},
   "outputs": [],
   "source": [
    "outer_list = [1,2,3,4,5]\n",
    "inner_list = ['a', 'b', 'c', 'd', 'e']\n",
    "for o in outer_list:\n",
    "    for i in inner_list:\n",
    "        print(o, i)\n",
    "        break"
   ]
  },
  {
   "cell_type": "markdown",
   "metadata": {},
   "source": [
    "#### `continue`"
   ]
  },
  {
   "cell_type": "markdown",
   "metadata": {},
   "source": [
    "While `break` provides a way to exit out of the current loop, `continue` lets you skip the rest of the loop and continue on to the next iteration. We will see motivation for `continue` in an assignment."
   ]
  },
  {
   "cell_type": "code",
   "execution_count": null,
   "metadata": {},
   "outputs": [],
   "source": [
    "some_list = ['homer', 'marge', 'bart', 'lisa', 'maggie']\n",
    "\n",
    "found_her = False\n",
    "for name in some_list:\n",
    "    if name == 'lisa': \n",
    "        found_her = True\n",
    "        continue\n",
    "        print(\"glad we found her!\")\n",
    "    else:\n",
    "        print(f\"Didn't find her yet, found {name} instead\")\n",
    "\n",
    "found_her"
   ]
  },
  {
   "cell_type": "markdown",
   "metadata": {},
   "source": [
    "A more interesting and realistic example of `continue`"
   ]
  },
  {
   "cell_type": "code",
   "execution_count": null,
   "metadata": {},
   "outputs": [],
   "source": [
    "data_file_location = \"../../datasets/deaths-in-gameofthrones/game-of-thrones-deaths-data.csv\"\n",
    "\n",
    "jon = 0 #variable containing Jon's score\n",
    "arya = 0 #variable containing Arya's score\n",
    "\n",
    "with open(data_file_location, 'r', encoding='utf8') as file:\n",
    "    #Go through each line in file\n",
    "    for i, line in enumerate(file):\n",
    "      if i ==0: continue #<==============We should have skipped the first line to avoid reading column names!\n",
    "      tokens = line.split(',') #separate line into columns\n",
    "      if tokens[4] == \"Arya Stark\": arya = arya + 1\n",
    "      if tokens[4] == \"Jon Snow\": \n",
    "        jon = jon + 1\n",
    "\n",
    "print(\"Arya killed\", arya, \"people\")\n",
    "print(\"Jon killed\", jon, \"people\")"
   ]
  },
  {
   "cell_type": "markdown",
   "metadata": {},
   "source": [
    "Try this in pythontutor.com:"
   ]
  },
  {
   "cell_type": "code",
   "execution_count": null,
   "metadata": {},
   "outputs": [],
   "source": [
    "outer_list = [1,2,3,4]\n",
    "inner_list = ['a', 'b', 'c', 'd']\n",
    "for o in outer_list:\n",
    "    for i in inner_list:\n",
    "        print(o, i)\n",
    "        continue\n",
    "        #break\n",
    "        print(o, i, \"again\")"
   ]
  },
  {
   "cell_type": "markdown",
   "metadata": {},
   "source": [
    "Although not as common in data science as they are in software engineering, `while`  loops are also useful:"
   ]
  },
  {
   "cell_type": "markdown",
   "metadata": {},
   "source": [
    "`while` loop allows you to continue the loop as long as something is true.\n",
    "\n",
    "**Example** Run this loop as long as the guesses are below 10"
   ]
  },
  {
   "cell_type": "code",
   "execution_count": null,
   "metadata": {},
   "outputs": [],
   "source": [
    "a = 0\n",
    "while a < 10:\n",
    "    a = int(input())\n",
    "    print(\"Just tried\",str(a))"
   ]
  },
  {
   "cell_type": "markdown",
   "metadata": {},
   "source": [
    "### Iterables\n",
    "\n",
    "A Python object, closely related to loops and lists is an iterable. Think of iterables as objects which can be looped over. You have seen that we can loop over lists and files. Lists and files are clearly two completely differnt things. However, they both provide the concept if `next()`. A file can thought of as an object which returns a new line everytime the `next()` function is called. A list can do the same. They don't have to represent the same concept, but they can be similar just because we can _iterate_ over them.\n",
    "\n",
    "There are many other items in Python which one can iterate over. A good example is the well used `range` function. See this example:"
   ]
  },
  {
   "cell_type": "code",
   "execution_count": null,
   "metadata": {},
   "outputs": [],
   "source": [
    "import sys"
   ]
  },
  {
   "cell_type": "code",
   "execution_count": null,
   "metadata": {},
   "outputs": [],
   "source": [
    "sys.getsizeof([1])"
   ]
  },
  {
   "cell_type": "code",
   "execution_count": null,
   "metadata": {},
   "outputs": [],
   "source": [
    "sys.getsizeof([1,2,3,4,5])"
   ]
  },
  {
   "cell_type": "code",
   "execution_count": null,
   "metadata": {},
   "outputs": [],
   "source": [
    "sys.getsizeof([1,2,3,4,5,6,7,8,9,10])"
   ]
  },
  {
   "cell_type": "code",
   "execution_count": null,
   "metadata": {},
   "outputs": [],
   "source": [
    "sys.getsizeof(range(100000000000000000000000000000000000000000000000000))"
   ]
  },
  {
   "cell_type": "markdown",
   "metadata": {},
   "source": [
    "The `range` function is creating an absoloutely giant list! It should blow up our computer, instead it shows that its size, in memory, is only 48 bytes?\n",
    "\n",
    "That's because `range()` doesn't actually create a giant list. It only creates an iterator. Everytime the loop calls `next()` on it, it takes the current number, adds one to it and returns that number. No need to maintain a giant list!\n",
    "\n",
    "This is also why you can loop through a file which is 10 times larger than your memory. The for loop isn't actually creating a list, then iterating through it. It is ready the data _on demand_ or in a _lazy_ fashion.\n",
    "\n",
    "Note that the `next()` function I've mentioned a few times is actually called `__next__`, since it is generally not supposed to be used by human programmers. It is used by Python code internally, such as loops."
   ]
  },
  {
   "cell_type": "markdown",
   "metadata": {},
   "source": [
    "### Conditional statements: if/else\n",
    "\n",
    "Even non-techy folks seem to know about 'if/else' statements. Let's see how to use them in Python."
   ]
  },
  {
   "cell_type": "code",
   "execution_count": null,
   "metadata": {},
   "outputs": [],
   "source": [
    "trouble_maker = 'bart'\n",
    "\n",
    "simpsons = ['homer', 'marge', 'bart', 'lisa', 'maggie']\n",
    "\n",
    "for s in simpsons:\n",
    "    print(\"Hello\", s.capitalize(), \", welcome to our establishment!\")\n",
    "    if s == trouble_maker:\n",
    "        print(\"...please behave\")"
   ]
  },
  {
   "cell_type": "markdown",
   "metadata": {},
   "source": [
    "Sometimes you want to use an explicit `else` clause:"
   ]
  },
  {
   "cell_type": "code",
   "execution_count": null,
   "metadata": {},
   "outputs": [],
   "source": [
    "gpa = 3.5\n",
    "\n",
    "if gpa > 3.0:\n",
    "    print(\"Thank you for being a good student\")\n",
    "else:\n",
    "    print(\"If you need help, please ask. I won't mind\")"
   ]
  },
  {
   "cell_type": "markdown",
   "metadata": {},
   "source": [
    "In other languages, you need to nest `if`/`else` clauses for more complicated logic"
   ]
  },
  {
   "cell_type": "code",
   "execution_count": null,
   "metadata": {},
   "outputs": [],
   "source": [
    "gpa = 2.0\n",
    "\n",
    "if gpa > 0 and gpa < 2:\n",
    "    print(\"I'm afraid we need to talk\")\n",
    "else: \n",
    "    if gpa >= 2 and gpa < 3:  #<===== What if GPA was 2.0, but we had used '>' instead of '>=\"?\n",
    "        print(\"If you need help, please ask. I won't mind\")\n",
    "    else: #<===== What if GPA is negative?\n",
    "        print(\"Thank you for being a good student\")"
   ]
  },
  {
   "cell_type": "markdown",
   "metadata": {},
   "source": [
    "Python way"
   ]
  },
  {
   "cell_type": "code",
   "execution_count": null,
   "metadata": {},
   "outputs": [],
   "source": [
    "gpa = 2.0\n",
    "\n",
    "if gpa > 0 and gpa < 2:\n",
    "    print(\"I'm afraid we need to talk\")\n",
    "elif gpa >= 2 and gpa < 3:  #<===== What if GPA was 2.0, but we had used '>' instead of '>=\"?\n",
    "        print(\"If you need help, please ask. I won't mind\")\n",
    "else: #<===== What if GPA is negative?\n",
    "        print(\"Thank you for being a good student\")"
   ]
  },
  {
   "cell_type": "markdown",
   "metadata": {},
   "source": [
    "The general syntax of a conditonal is:\n",
    "\n",
    "```python\n",
    "if BOOLEAN_VALUE:\n",
    "  Excute if BOOLEAN_VALUE is true\n",
    "elif BOOLEAN_VALUE2:\n",
    "  Excute if BOOLEAN_VALUE2 is true\n",
    "elfif...\n",
    "else:\n",
    "  Excute if none of the above boolean values was true\n",
    "```\n",
    "\n",
    "![](images/ifelse_diagram.png)"
   ]
  },
  {
   "cell_type": "markdown",
   "metadata": {},
   "source": [
    "* Keep in mind that `elif` and `else` statements are optional\n",
    "* Indentation is necessary\n",
    "* You can execute as many statements after an if/elif/else clause as you like"
   ]
  },
  {
   "cell_type": "markdown",
   "metadata": {},
   "source": [
    "**Exercise** Go through the list below, print every number which has a square above 50"
   ]
  },
  {
   "cell_type": "code",
   "execution_count": null,
   "metadata": {},
   "outputs": [],
   "source": [
    "%%postcell exercise_025_100_k\n",
    "\n",
    "numbers = [23, 43, 67, 1, 7, 9, 3]\n",
    "\n",
    "#Type loop and if/else code here"
   ]
  },
  {
   "cell_type": "markdown",
   "metadata": {},
   "source": [
    "### Truthiness\n",
    "\n",
    "In `if` conditions and loops, `True` and `False` (or functions which produce them) are not the only valid conditions. Python allows you to use other objects which make the code very convenient.\n",
    "\n",
    "As a general rule, any 'zero' values, empty containers (including empty strings) or None are equal to `False` in `if` conditions and loops."
   ]
  },
  {
   "cell_type": "code",
   "execution_count": null,
   "metadata": {},
   "outputs": [],
   "source": [
    "emptylist = []\n",
    "notemptylist = [1,2,3]"
   ]
  },
  {
   "cell_type": "code",
   "execution_count": null,
   "metadata": {},
   "outputs": [],
   "source": [
    "type(emptylist)"
   ]
  },
  {
   "cell_type": "code",
   "execution_count": null,
   "metadata": {},
   "outputs": [],
   "source": [
    "if len(emptylist) > 0:\n",
    "    print('this list is not empty')\n",
    "else:\n",
    "    print('this list is empty')"
   ]
  },
  {
   "cell_type": "code",
   "execution_count": null,
   "metadata": {},
   "outputs": [],
   "source": [
    "if emptylist: \n",
    "    print('this list is not empty')\n",
    "else:\n",
    "    print('this list is empty')"
   ]
  },
  {
   "cell_type": "code",
   "execution_count": null,
   "metadata": {},
   "outputs": [],
   "source": [
    "homer_bank_balance = 0"
   ]
  },
  {
   "cell_type": "code",
   "execution_count": null,
   "metadata": {},
   "outputs": [],
   "source": [
    "type(homer_bank_balance)"
   ]
  },
  {
   "cell_type": "code",
   "execution_count": null,
   "metadata": {},
   "outputs": [],
   "source": [
    "if homer_bank_balance:\n",
    "    print('Homer is not yet broke')\n",
    "else:\n",
    "    print('Homer is broke')"
   ]
  },
  {
   "cell_type": "code",
   "execution_count": null,
   "metadata": {},
   "outputs": [],
   "source": [
    "filecontents = ''"
   ]
  },
  {
   "cell_type": "code",
   "execution_count": null,
   "metadata": {},
   "outputs": [],
   "source": [
    "if filecontents:\n",
    "    print('File is not empty')\n",
    "else:\n",
    "    print('File is empty')"
   ]
  },
  {
   "cell_type": "code",
   "execution_count": null,
   "metadata": {},
   "outputs": [],
   "source": []
  },
  {
   "cell_type": "markdown",
   "metadata": {},
   "source": [
    "**Exercise** Find all instances of a conditional statement in notebook \"first_programs\""
   ]
  },
  {
   "cell_type": "markdown",
   "metadata": {},
   "source": [
    "**Homework**\n",
    "1. Please list all locations in the filegame-of-thrones-deaths-data.csv\n",
    "2. Please list all allegiances in the same file (second to last column)\n",
    "3. Please show the number of killings per season.\n",
    "4. Print out this cheatsheet and keep it handy: https://perso.limsi.fr/pointal/_media/python:cours:mementopython3-english.pdf\n",
    "5. Book mark this page and start to go through it (you may ignore, for now, things you don't understand): https://learnxinyminutes.com/docs/python3/\n"
   ]
  },
  {
   "cell_type": "markdown",
   "metadata": {},
   "source": [
    "**Reference**\n",
    "\n",
    "Necklace image retrieved from https://www.designsbyleigha.com/name-necklace-snake.html\n",
    "\n",
    "Diagram editor: https://mermaidjs.github.io/mermaid-live-editor"
   ]
  },
  {
   "cell_type": "code",
   "execution_count": null,
   "metadata": {},
   "outputs": [],
   "source": []
  }
 ],
 "metadata": {
  "kernelspec": {
   "display_name": "Python 3 (ipykernel)",
   "language": "python",
   "name": "python3"
  },
  "language_info": {
   "codemirror_mode": {
    "name": "ipython",
    "version": 3
   },
   "file_extension": ".py",
   "mimetype": "text/x-python",
   "name": "python",
   "nbconvert_exporter": "python",
   "pygments_lexer": "ipython3",
   "version": "3.11.5"
  },
  "vscode": {
   "interpreter": {
    "hash": "108a1df64039728e69f178110a6e255a10aba8514903b770571642a02940d2ba"
   }
  }
 },
 "nbformat": 4,
 "nbformat_minor": 4
}
