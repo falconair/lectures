{
 "cells": [
  {
   "cell_type": "markdown",
   "metadata": {
    "slideshow": {
     "slide_type": "slide"
    }
   },
   "source": [
    "## Programming vs a calculator"
   ]
  },
  {
   "cell_type": "markdown",
   "metadata": {
    "slideshow": {
     "slide_type": "slide"
    }
   },
   "source": [
    "### Let's start with a calculator\n",
    "![](./images/SL300VC-PK_large.png)"
   ]
  },
  {
   "cell_type": "code",
   "execution_count": null,
   "metadata": {
    "slideshow": {
     "slide_type": "fragment"
    }
   },
   "outputs": [],
   "source": [
    "2+2"
   ]
  },
  {
   "cell_type": "markdown",
   "metadata": {
    "slideshow": {
     "slide_type": "slide"
    }
   },
   "source": [
    "### Numbers, nouns or _things_\n",
    "![](./images/calculator_numbers.jpg) "
   ]
  },
  {
   "cell_type": "markdown",
   "metadata": {
    "slideshow": {
     "slide_type": "slide"
    }
   },
   "source": [
    "### Operators, functions, verbs or ways in which you operate on _things_\n",
    "![](./images/calculator_operators.jpg)"
   ]
  },
  {
   "cell_type": "markdown",
   "metadata": {
    "slideshow": {
     "slide_type": "slide"
    }
   },
   "source": [
    "### Operations related to the screen\n",
    "![](./images/calculator_screen.jpg) "
   ]
  },
  {
   "cell_type": "markdown",
   "metadata": {
    "slideshow": {
     "slide_type": "slide"
    }
   },
   "source": [
    "### Operations related to memory\n",
    "![](./images/calculator_memory.jpg)\n",
    "\n",
    "**Exercise**: On a calculator, find the proportion of total represented by 35, 45, 55\n",
    "1. Calculate total\n",
    "2. Save that total in memory\n",
    "3. Divide each number by the total in memory"
   ]
  },
  {
   "cell_type": "markdown",
   "metadata": {
    "slideshow": {
     "slide_type": "slide"
    }
   },
   "source": [
    "### An imaginary box to remember things\n",
    "![](./images/calculator_2p3.jpg) "
   ]
  },
  {
   "cell_type": "code",
   "execution_count": null,
   "metadata": {
    "slideshow": {
     "slide_type": "fragment"
    }
   },
   "outputs": [],
   "source": [
    "x=135\n",
    "2+x"
   ]
  },
  {
   "cell_type": "markdown",
   "metadata": {
    "slideshow": {
     "slide_type": "slide"
    }
   },
   "source": [
    "### How can we expand the functionality of this calculator?\n",
    "\n",
    "What if we could snap on more operators (aka verbs or functions)\n",
    "\n",
    "![](./images/calculator_expand_math.jpg) \n",
    "\n",
    "This way, product designer and engineers could builid a nice calculator, math majors could write fancy expansion sets and consumers could add on the functionality they needed."
   ]
  },
  {
   "cell_type": "code",
   "execution_count": null,
   "metadata": {
    "slideshow": {
     "slide_type": "fragment"
    }
   },
   "outputs": [],
   "source": [
    "import math\n",
    "math.log(100)"
   ]
  },
  {
   "cell_type": "markdown",
   "metadata": {
    "slideshow": {
     "slide_type": "slide"
    }
   },
   "source": [
    "### How can we expand the functionality of this calculator?\n",
    "\n",
    "What about adding nouns or data types beyond numbers, such as dates and times?\n",
    "\n",
    "![](./images/calculator_expand_date.jpg) "
   ]
  },
  {
   "cell_type": "code",
   "execution_count": null,
   "metadata": {
    "slideshow": {
     "slide_type": "fragment"
    }
   },
   "outputs": [],
   "source": [
    "import datetime\n",
    "datetime.date.today() + datetime.timedelta(weeks=1) + datetime.timedelta(days=1)"
   ]
  },
  {
   "cell_type": "markdown",
   "metadata": {
    "slideshow": {
     "slide_type": "slide"
    }
   },
   "source": [
    "### How can we expand the functionality of this calculator?\n",
    "\n",
    "What about adding nouns or data types beyond numbers, such as dates, times and **English characters** ?\n",
    "\n",
    "![](./images/calculator_expand_chars.jpg) "
   ]
  },
  {
   "cell_type": "code",
   "execution_count": null,
   "metadata": {},
   "outputs": [],
   "source": [
    "print(dir(\"hello\"))"
   ]
  },
  {
   "cell_type": "code",
   "execution_count": null,
   "metadata": {},
   "outputs": [],
   "source": [
    "'a' + 'b'"
   ]
  },
  {
   "cell_type": "markdown",
   "metadata": {
    "slideshow": {
     "slide_type": "slide"
    }
   },
   "source": [
    "### How can we expand the functionality of this calculator?\n",
    "\n",
    "What about adding more than one memory slot? This will also require that we name our memory slots, or variables.\n",
    "\n",
    "![](./images/calculator_expand_mem.jpg) "
   ]
  },
  {
   "cell_type": "code",
   "execution_count": null,
   "metadata": {},
   "outputs": [],
   "source": [
    "x=5\n",
    "y=10\n",
    "x+y"
   ]
  },
  {
   "cell_type": "markdown",
   "metadata": {
    "slideshow": {
     "slide_type": "slide"
    }
   },
   "source": [
    "### How can we expand the functionality of this calculator?\n",
    "\n",
    "What if, insead of typing out calculations, we could record the calculations, and run them at a later time?\n",
    "```\n",
    "1+1\n",
    "2+2\n",
    "...\n",
    "```\n",
    "\n",
    "![](./images/HR-10RC_large.png) "
   ]
  },
  {
   "cell_type": "markdown",
   "metadata": {
    "slideshow": {
     "slide_type": "slide"
    }
   },
   "source": [
    "### A tape will replay commands **exactly**\n",
    "Not very useful. \n",
    "We should be able to record a bunch of commands, but vary one or two things."
   ]
  },
  {
   "cell_type": "code",
   "execution_count": null,
   "metadata": {
    "slideshow": {
     "slide_type": "fragment"
    }
   },
   "outputs": [],
   "source": [
    "x = 19.99      #<= Price of a meal\n",
    "y = x * 0.0625 #<= Sales tax\n",
    "y * 1.20       #<= 20% Tip"
   ]
  },
  {
   "cell_type": "markdown",
   "metadata": {
    "slideshow": {
     "slide_type": "slide"
    }
   },
   "source": [
    "# Sources\n",
    "Pink calculator: https://www.casio.com/products/calculators/basic/sl300vc-pk\n",
    "\n",
    "Calculator with printer: https://www.casio.com/products/calculators/printing/hr-10rc"
   ]
  }
 ],
 "metadata": {
  "celltoolbar": "Slideshow",
  "kernelspec": {
   "display_name": "Python 3 (ipykernel)",
   "language": "python",
   "name": "python3"
  },
  "language_info": {
   "codemirror_mode": {
    "name": "ipython",
    "version": 3
   },
   "file_extension": ".py",
   "mimetype": "text/x-python",
   "name": "python",
   "nbconvert_exporter": "python",
   "pygments_lexer": "ipython3",
   "version": "3.9.13"
  },
  "vscode": {
   "interpreter": {
    "hash": "108a1df64039728e69f178110a6e255a10aba8514903b770571642a02940d2ba"
   }
  }
 },
 "nbformat": 4,
 "nbformat_minor": 4
}
