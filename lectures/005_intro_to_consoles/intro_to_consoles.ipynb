{
 "cells": [
  {
   "cell_type": "markdown",
   "metadata": {
    "slideshow": {
     "slide_type": "slide"
    }
   },
   "source": [
    "# In the beginning, there was the console"
   ]
  },
  {
   "cell_type": "markdown",
   "metadata": {
    "slideshow": {
     "slide_type": "slide"
    }
   },
   "source": [
    "### Modern operating systems offer a visually stimulating **Graphical** User Interface\n",
    "\n",
    "![](./images/03_two_pages_at_once.png)"
   ]
  },
  {
   "cell_type": "markdown",
   "metadata": {
    "slideshow": {
     "slide_type": "slide"
    }
   },
   "source": [
    "### However, there had to be a simpler beginning\n",
    "\n",
    "![](./images/console.jpg)\n",
    "\n",
    "Kids react to old computers: https://www.youtube.com/watch?v=PF7EpEnglgk"
   ]
  },
  {
   "cell_type": "markdown",
   "metadata": {
    "slideshow": {
     "slide_type": "slide"
    }
   },
   "source": [
    "### Print to screen, which screen?\n",
    "\n",
    "```print(1+2)```\n",
    "\n",
    "There only used to be _one_ screen (aka console)"
   ]
  },
  {
   "cell_type": "markdown",
   "metadata": {
    "slideshow": {
     "slide_type": "slide"
    }
   },
   "source": [
    "### In modern computers, such consoles are still available\n",
    "\n",
    "In Apple computers, console is called the **Terminal**\n",
    "![](./images/macterminal.png)"
   ]
  },
  {
   "cell_type": "markdown",
   "metadata": {
    "slideshow": {
     "slide_type": "slide"
    }
   },
   "source": [
    "### In modern computers, such consoles are still available\n",
    "\n",
    "In Windows, it is called the **Command Prompt**\n",
    "![](./images/dosprompt.jpg)\n",
    "\n",
    "We will use Git Bash, which will simulate an environment similar to Apple or Linux Terminal"
   ]
  },
  {
   "cell_type": "markdown",
   "metadata": {
    "slideshow": {
     "slide_type": "slide"
    }
   },
   "source": [
    "# References\n",
    "MS Word screenshot: https://www.howtogeek.com/215187/how-to-view-multiple-pages-at-once-in-word/\n",
    "\n",
    "Mac Terminal screenshot: https://thenextweb.com/lifehacks/2010/11/19/keep-your-macbook-from-waking-up-in-your-bag-with-a-simple-command/"
   ]
  },
  {
   "cell_type": "code",
   "execution_count": null,
   "metadata": {
    "slideshow": {
     "slide_type": "slide"
    }
   },
   "outputs": [],
   "source": []
  }
 ],
 "metadata": {
  "celltoolbar": "Slideshow",
  "kernelspec": {
   "display_name": "Python [conda env:PythonForAnalytics] *",
   "language": "python",
   "name": "conda-env-PythonForAnalytics-py"
  },
  "language_info": {
   "codemirror_mode": {
    "name": "ipython",
    "version": 3
   },
   "file_extension": ".py",
   "mimetype": "text/x-python",
   "name": "python",
   "nbconvert_exporter": "python",
   "pygments_lexer": "ipython3",
   "version": "3.6.9"
  }
 },
 "nbformat": 4,
 "nbformat_minor": 2
}
