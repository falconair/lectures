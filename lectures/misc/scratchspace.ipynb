{
 "cells": [
  {
   "cell_type": "code",
   "execution_count": 3,
   "id": "unnecessary-locator",
   "metadata": {},
   "outputs": [],
   "source": [
    "d = {'a':{'x':1, 'y':2, 'z':3}, 'b':{'x':1, 'y':2, 'z':3}, 'c':{'x':1, 'y':2, 'z':3}}"
   ]
  },
  {
   "cell_type": "code",
   "execution_count": 4,
   "id": "sharing-thermal",
   "metadata": {},
   "outputs": [
    {
     "name": "stdout",
     "output_type": "stream",
     "text": [
      "a\n",
      "b\n",
      "c\n"
     ]
    }
   ],
   "source": [
    "for i in d: print(i)"
   ]
  },
  {
   "cell_type": "code",
   "execution_count": 9,
   "id": "closing-hybrid",
   "metadata": {},
   "outputs": [
    {
     "name": "stdout",
     "output_type": "stream",
     "text": [
      "a {'x': 1, 'y': 2, 'z': 3}\n",
      "    x 1\n",
      "    y 2\n",
      "    z 3\n",
      "     x 0.16666666666666666\n",
      "     y 0.3333333333333333\n",
      "     z 0.5\n",
      "     6\n",
      "b {'x': 1, 'y': 2, 'z': 3}\n",
      "    x 1\n",
      "    y 2\n",
      "    z 3\n",
      "     x 0.16666666666666666\n",
      "     y 0.3333333333333333\n",
      "     z 0.5\n",
      "     6\n",
      "c {'x': 1, 'y': 2, 'z': 3}\n",
      "    x 1\n",
      "    y 2\n",
      "    z 3\n",
      "     x 0.16666666666666666\n",
      "     y 0.3333333333333333\n",
      "     z 0.5\n",
      "     6\n"
     ]
    }
   ],
   "source": [
    "#Outer loop, go through the top dictionary\n",
    "for key, val in d.items():\n",
    "    print(key, val)\n",
    "    \n",
    "    #For each inner dicitonary, go through it as well and normalize numbers\n",
    "    #calculate total\n",
    "    total = 0\n",
    "    for key2, val2 in val.items():\n",
    "        print('   ', key2, val2)\n",
    "        total += val2\n",
    "    \n",
    "    #divide each value by total to convert it to a probability\n",
    "    for key2, val2 in val.items():\n",
    "        val[key2] = val2/total\n",
    "        print('    ', key2, val[key2])\n",
    "    \n",
    "    print('    ', total)"
   ]
  },
  {
   "cell_type": "code",
   "execution_count": 10,
   "id": "confident-radar",
   "metadata": {},
   "outputs": [
    {
     "data": {
      "text/plain": [
       "Counter({(0, 1): 1,\n",
       "         (1, 2): 1,\n",
       "         (2, 3): 1,\n",
       "         (3, 4): 1,\n",
       "         (4, 5): 1,\n",
       "         (5, 6): 1,\n",
       "         (6, 7): 1,\n",
       "         (7, 8): 1,\n",
       "         (8, 9): 1})"
      ]
     },
     "execution_count": 10,
     "metadata": {},
     "output_type": "execute_result"
    }
   ],
   "source": [
    "import collections\n",
    "r = range(10)\n",
    "collections.Counter(zip(r, r[1:]))"
   ]
  },
  {
   "cell_type": "code",
   "execution_count": null,
   "id": "dental-robertson",
   "metadata": {},
   "outputs": [],
   "source": []
  }
 ],
 "metadata": {
  "kernelspec": {
   "display_name": "Python 3",
   "language": "python",
   "name": "python3"
  },
  "language_info": {
   "codemirror_mode": {
    "name": "ipython",
    "version": 3
   },
   "file_extension": ".py",
   "mimetype": "text/x-python",
   "name": "python",
   "nbconvert_exporter": "python",
   "pygments_lexer": "ipython3",
   "version": "3.8.5"
  }
 },
 "nbformat": 4,
 "nbformat_minor": 5
}
